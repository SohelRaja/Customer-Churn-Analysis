{
 "cells": [
  {
   "cell_type": "markdown",
   "metadata": {
    "colab_type": "text",
    "id": "view-in-github"
   },
   "source": [
    "<a href=\"https://colab.research.google.com/github/SohelRaja/ML_repo_college/blob/master/Decision%20Tree%20with%20Python/Decision_Tree_03.ipynb\" target=\"_parent\"><img src=\"https://colab.research.google.com/assets/colab-badge.svg\" alt=\"Open In Colab\"/></a>"
   ]
  },
  {
   "cell_type": "markdown",
   "metadata": {
    "colab_type": "text",
    "id": "_hCyttyZ4unK"
   },
   "source": [
    "## Decision Tree Algorithm"
   ]
  },
  {
   "cell_type": "markdown",
   "metadata": {
    "colab_type": "text",
    "id": "Mr5QttoD4unM"
   },
   "source": [
    "#### Importing required libraries"
   ]
  },
  {
   "cell_type": "code",
   "execution_count": 1,
   "metadata": {
    "colab": {},
    "colab_type": "code",
    "id": "kfoAptVQ4unN"
   },
   "outputs": [],
   "source": [
    "import numpy as np\n",
    "import pandas as pd \n",
    "import seaborn as sns\n",
    "import matplotlib.pyplot as plt"
   ]
  },
  {
   "cell_type": "code",
   "execution_count": 2,
   "metadata": {
    "colab": {},
    "colab_type": "code",
    "id": "7oDTvqEM4unQ"
   },
   "outputs": [],
   "source": [
    "%matplotlib inline"
   ]
  },
  {
   "cell_type": "markdown",
   "metadata": {
    "colab_type": "text",
    "id": "y_MOcOkw9m77"
   },
   "source": [
    "#### Importing Dataset from github repo\n"
   ]
  },
  {
   "cell_type": "code",
   "execution_count": 7,
   "metadata": {
    "colab": {
     "base_uri": "https://localhost:8080/",
     "height": 549
    },
    "colab_type": "code",
    "id": "4CkTPGWt7mxQ",
    "outputId": "99b56b4d-515c-4f53-b60f-01c7ba8b9d27"
   },
   "outputs": [
    {
     "data": {
      "text/html": [
       "<div>\n",
       "<style scoped>\n",
       "    .dataframe tbody tr th:only-of-type {\n",
       "        vertical-align: middle;\n",
       "    }\n",
       "\n",
       "    .dataframe tbody tr th {\n",
       "        vertical-align: top;\n",
       "    }\n",
       "\n",
       "    .dataframe thead th {\n",
       "        text-align: right;\n",
       "    }\n",
       "</style>\n",
       "<table border=\"1\" class=\"dataframe\">\n",
       "  <thead>\n",
       "    <tr style=\"text-align: right;\">\n",
       "      <th></th>\n",
       "      <th>customerID</th>\n",
       "      <th>gender</th>\n",
       "      <th>SeniorCitizen</th>\n",
       "      <th>Partner</th>\n",
       "      <th>Dependents</th>\n",
       "      <th>tenure</th>\n",
       "      <th>PhoneService</th>\n",
       "      <th>MultipleLines</th>\n",
       "      <th>InternetService</th>\n",
       "      <th>OnlineSecurity</th>\n",
       "      <th>OnlineBackup</th>\n",
       "      <th>DeviceProtection</th>\n",
       "      <th>TechSupport</th>\n",
       "      <th>StreamingTV</th>\n",
       "      <th>StreamingMovies</th>\n",
       "      <th>Contract</th>\n",
       "      <th>PaperlessBilling</th>\n",
       "      <th>PaymentMethod</th>\n",
       "      <th>MonthlyCharges</th>\n",
       "      <th>TotalCharges</th>\n",
       "      <th>Churn</th>\n",
       "    </tr>\n",
       "  </thead>\n",
       "  <tbody>\n",
       "    <tr>\n",
       "      <th>0</th>\n",
       "      <td>7590-VHVEG</td>\n",
       "      <td>Female</td>\n",
       "      <td>0</td>\n",
       "      <td>Yes</td>\n",
       "      <td>No</td>\n",
       "      <td>1</td>\n",
       "      <td>No</td>\n",
       "      <td>No phone service</td>\n",
       "      <td>DSL</td>\n",
       "      <td>No</td>\n",
       "      <td>Yes</td>\n",
       "      <td>No</td>\n",
       "      <td>No</td>\n",
       "      <td>No</td>\n",
       "      <td>No</td>\n",
       "      <td>Month-to-month</td>\n",
       "      <td>Yes</td>\n",
       "      <td>Electronic check</td>\n",
       "      <td>29.85</td>\n",
       "      <td>29.85</td>\n",
       "      <td>No</td>\n",
       "    </tr>\n",
       "    <tr>\n",
       "      <th>1</th>\n",
       "      <td>5575-GNVDE</td>\n",
       "      <td>Male</td>\n",
       "      <td>0</td>\n",
       "      <td>No</td>\n",
       "      <td>No</td>\n",
       "      <td>34</td>\n",
       "      <td>Yes</td>\n",
       "      <td>No</td>\n",
       "      <td>DSL</td>\n",
       "      <td>Yes</td>\n",
       "      <td>No</td>\n",
       "      <td>Yes</td>\n",
       "      <td>No</td>\n",
       "      <td>No</td>\n",
       "      <td>No</td>\n",
       "      <td>One year</td>\n",
       "      <td>No</td>\n",
       "      <td>Mailed check</td>\n",
       "      <td>56.95</td>\n",
       "      <td>1889.5</td>\n",
       "      <td>No</td>\n",
       "    </tr>\n",
       "    <tr>\n",
       "      <th>2</th>\n",
       "      <td>3668-QPYBK</td>\n",
       "      <td>Male</td>\n",
       "      <td>0</td>\n",
       "      <td>No</td>\n",
       "      <td>No</td>\n",
       "      <td>2</td>\n",
       "      <td>Yes</td>\n",
       "      <td>No</td>\n",
       "      <td>DSL</td>\n",
       "      <td>Yes</td>\n",
       "      <td>Yes</td>\n",
       "      <td>No</td>\n",
       "      <td>No</td>\n",
       "      <td>No</td>\n",
       "      <td>No</td>\n",
       "      <td>Month-to-month</td>\n",
       "      <td>Yes</td>\n",
       "      <td>Mailed check</td>\n",
       "      <td>53.85</td>\n",
       "      <td>108.15</td>\n",
       "      <td>Yes</td>\n",
       "    </tr>\n",
       "    <tr>\n",
       "      <th>3</th>\n",
       "      <td>7795-CFOCW</td>\n",
       "      <td>Male</td>\n",
       "      <td>0</td>\n",
       "      <td>No</td>\n",
       "      <td>No</td>\n",
       "      <td>45</td>\n",
       "      <td>No</td>\n",
       "      <td>No phone service</td>\n",
       "      <td>DSL</td>\n",
       "      <td>Yes</td>\n",
       "      <td>No</td>\n",
       "      <td>Yes</td>\n",
       "      <td>Yes</td>\n",
       "      <td>No</td>\n",
       "      <td>No</td>\n",
       "      <td>One year</td>\n",
       "      <td>No</td>\n",
       "      <td>Bank transfer (automatic)</td>\n",
       "      <td>42.30</td>\n",
       "      <td>1840.75</td>\n",
       "      <td>No</td>\n",
       "    </tr>\n",
       "    <tr>\n",
       "      <th>4</th>\n",
       "      <td>9237-HQITU</td>\n",
       "      <td>Female</td>\n",
       "      <td>0</td>\n",
       "      <td>No</td>\n",
       "      <td>No</td>\n",
       "      <td>2</td>\n",
       "      <td>Yes</td>\n",
       "      <td>No</td>\n",
       "      <td>Fiber optic</td>\n",
       "      <td>No</td>\n",
       "      <td>No</td>\n",
       "      <td>No</td>\n",
       "      <td>No</td>\n",
       "      <td>No</td>\n",
       "      <td>No</td>\n",
       "      <td>Month-to-month</td>\n",
       "      <td>Yes</td>\n",
       "      <td>Electronic check</td>\n",
       "      <td>70.70</td>\n",
       "      <td>151.65</td>\n",
       "      <td>Yes</td>\n",
       "    </tr>\n",
       "    <tr>\n",
       "      <th>5</th>\n",
       "      <td>9305-CDSKC</td>\n",
       "      <td>Female</td>\n",
       "      <td>0</td>\n",
       "      <td>No</td>\n",
       "      <td>No</td>\n",
       "      <td>8</td>\n",
       "      <td>Yes</td>\n",
       "      <td>Yes</td>\n",
       "      <td>Fiber optic</td>\n",
       "      <td>No</td>\n",
       "      <td>No</td>\n",
       "      <td>Yes</td>\n",
       "      <td>No</td>\n",
       "      <td>Yes</td>\n",
       "      <td>Yes</td>\n",
       "      <td>Month-to-month</td>\n",
       "      <td>Yes</td>\n",
       "      <td>Electronic check</td>\n",
       "      <td>99.65</td>\n",
       "      <td>820.5</td>\n",
       "      <td>Yes</td>\n",
       "    </tr>\n",
       "    <tr>\n",
       "      <th>6</th>\n",
       "      <td>1452-KIOVK</td>\n",
       "      <td>Male</td>\n",
       "      <td>0</td>\n",
       "      <td>No</td>\n",
       "      <td>Yes</td>\n",
       "      <td>22</td>\n",
       "      <td>Yes</td>\n",
       "      <td>Yes</td>\n",
       "      <td>Fiber optic</td>\n",
       "      <td>No</td>\n",
       "      <td>Yes</td>\n",
       "      <td>No</td>\n",
       "      <td>No</td>\n",
       "      <td>Yes</td>\n",
       "      <td>No</td>\n",
       "      <td>Month-to-month</td>\n",
       "      <td>Yes</td>\n",
       "      <td>Credit card (automatic)</td>\n",
       "      <td>89.10</td>\n",
       "      <td>1949.4</td>\n",
       "      <td>No</td>\n",
       "    </tr>\n",
       "    <tr>\n",
       "      <th>7</th>\n",
       "      <td>6713-OKOMC</td>\n",
       "      <td>Female</td>\n",
       "      <td>0</td>\n",
       "      <td>No</td>\n",
       "      <td>No</td>\n",
       "      <td>10</td>\n",
       "      <td>No</td>\n",
       "      <td>No phone service</td>\n",
       "      <td>DSL</td>\n",
       "      <td>Yes</td>\n",
       "      <td>No</td>\n",
       "      <td>No</td>\n",
       "      <td>No</td>\n",
       "      <td>No</td>\n",
       "      <td>No</td>\n",
       "      <td>Month-to-month</td>\n",
       "      <td>No</td>\n",
       "      <td>Mailed check</td>\n",
       "      <td>29.75</td>\n",
       "      <td>301.9</td>\n",
       "      <td>No</td>\n",
       "    </tr>\n",
       "    <tr>\n",
       "      <th>8</th>\n",
       "      <td>7892-POOKP</td>\n",
       "      <td>Female</td>\n",
       "      <td>0</td>\n",
       "      <td>Yes</td>\n",
       "      <td>No</td>\n",
       "      <td>28</td>\n",
       "      <td>Yes</td>\n",
       "      <td>Yes</td>\n",
       "      <td>Fiber optic</td>\n",
       "      <td>No</td>\n",
       "      <td>No</td>\n",
       "      <td>Yes</td>\n",
       "      <td>Yes</td>\n",
       "      <td>Yes</td>\n",
       "      <td>Yes</td>\n",
       "      <td>Month-to-month</td>\n",
       "      <td>Yes</td>\n",
       "      <td>Electronic check</td>\n",
       "      <td>104.80</td>\n",
       "      <td>3046.05</td>\n",
       "      <td>Yes</td>\n",
       "    </tr>\n",
       "    <tr>\n",
       "      <th>9</th>\n",
       "      <td>6388-TABGU</td>\n",
       "      <td>Male</td>\n",
       "      <td>0</td>\n",
       "      <td>No</td>\n",
       "      <td>Yes</td>\n",
       "      <td>62</td>\n",
       "      <td>Yes</td>\n",
       "      <td>No</td>\n",
       "      <td>DSL</td>\n",
       "      <td>Yes</td>\n",
       "      <td>Yes</td>\n",
       "      <td>No</td>\n",
       "      <td>No</td>\n",
       "      <td>No</td>\n",
       "      <td>No</td>\n",
       "      <td>One year</td>\n",
       "      <td>No</td>\n",
       "      <td>Bank transfer (automatic)</td>\n",
       "      <td>56.15</td>\n",
       "      <td>3487.95</td>\n",
       "      <td>No</td>\n",
       "    </tr>\n",
       "  </tbody>\n",
       "</table>\n",
       "</div>"
      ],
      "text/plain": [
       "   customerID  gender  SeniorCitizen  ... MonthlyCharges TotalCharges  Churn\n",
       "0  7590-VHVEG  Female              0  ...          29.85        29.85     No\n",
       "1  5575-GNVDE    Male              0  ...          56.95       1889.5     No\n",
       "2  3668-QPYBK    Male              0  ...          53.85       108.15    Yes\n",
       "3  7795-CFOCW    Male              0  ...          42.30      1840.75     No\n",
       "4  9237-HQITU  Female              0  ...          70.70       151.65    Yes\n",
       "5  9305-CDSKC  Female              0  ...          99.65        820.5    Yes\n",
       "6  1452-KIOVK    Male              0  ...          89.10       1949.4     No\n",
       "7  6713-OKOMC  Female              0  ...          29.75        301.9     No\n",
       "8  7892-POOKP  Female              0  ...         104.80      3046.05    Yes\n",
       "9  6388-TABGU    Male              0  ...          56.15      3487.95     No\n",
       "\n",
       "[10 rows x 21 columns]"
      ]
     },
     "execution_count": 7,
     "metadata": {
      "tags": []
     },
     "output_type": "execute_result"
    }
   ],
   "source": [
    "#This cell will required to run inside the Google colab runtime environment other wise you need to run the below cell.\n",
    "url = 'https://raw.githubusercontent.com/SohelRaja/ML_repo_college/master/Decision%20Tree%20with%20Python/WA_Fn-UseC_-Telco-Customer-Churn.csv'\n",
    "telco = pd.read_csv(url)\n",
    "telco.head(10)"
   ]
  },
  {
   "cell_type": "markdown",
   "metadata": {
    "colab_type": "text",
    "id": "fNqhPIJk4unT"
   },
   "source": [
    "##### Importing dataset"
   ]
  },
  {
   "cell_type": "code",
   "execution_count": 30,
   "metadata": {
    "colab": {},
    "colab_type": "code",
    "id": "pSLQIwWj4unT",
    "outputId": "61206ff9-d426-4a2b-a212-312501a1703b"
   },
   "outputs": [
    {
     "data": {
      "text/html": [
       "<div>\n",
       "<style scoped>\n",
       "    .dataframe tbody tr th:only-of-type {\n",
       "        vertical-align: middle;\n",
       "    }\n",
       "\n",
       "    .dataframe tbody tr th {\n",
       "        vertical-align: top;\n",
       "    }\n",
       "\n",
       "    .dataframe thead th {\n",
       "        text-align: right;\n",
       "    }\n",
       "</style>\n",
       "<table border=\"1\" class=\"dataframe\">\n",
       "  <thead>\n",
       "    <tr style=\"text-align: right;\">\n",
       "      <th></th>\n",
       "      <th>customerID</th>\n",
       "      <th>gender</th>\n",
       "      <th>SeniorCitizen</th>\n",
       "      <th>Partner</th>\n",
       "      <th>Dependents</th>\n",
       "      <th>tenure</th>\n",
       "      <th>PhoneService</th>\n",
       "      <th>MultipleLines</th>\n",
       "      <th>InternetService</th>\n",
       "      <th>OnlineSecurity</th>\n",
       "      <th>...</th>\n",
       "      <th>DeviceProtection</th>\n",
       "      <th>TechSupport</th>\n",
       "      <th>StreamingTV</th>\n",
       "      <th>StreamingMovies</th>\n",
       "      <th>Contract</th>\n",
       "      <th>PaperlessBilling</th>\n",
       "      <th>PaymentMethod</th>\n",
       "      <th>MonthlyCharges</th>\n",
       "      <th>TotalCharges</th>\n",
       "      <th>Churn</th>\n",
       "    </tr>\n",
       "  </thead>\n",
       "  <tbody>\n",
       "    <tr>\n",
       "      <th>0</th>\n",
       "      <td>7590-VHVEG</td>\n",
       "      <td>Female</td>\n",
       "      <td>0</td>\n",
       "      <td>Yes</td>\n",
       "      <td>No</td>\n",
       "      <td>1</td>\n",
       "      <td>No</td>\n",
       "      <td>No phone service</td>\n",
       "      <td>DSL</td>\n",
       "      <td>No</td>\n",
       "      <td>...</td>\n",
       "      <td>No</td>\n",
       "      <td>No</td>\n",
       "      <td>No</td>\n",
       "      <td>No</td>\n",
       "      <td>Month-to-month</td>\n",
       "      <td>Yes</td>\n",
       "      <td>Electronic check</td>\n",
       "      <td>29.85</td>\n",
       "      <td>29.85</td>\n",
       "      <td>No</td>\n",
       "    </tr>\n",
       "    <tr>\n",
       "      <th>1</th>\n",
       "      <td>5575-GNVDE</td>\n",
       "      <td>Male</td>\n",
       "      <td>0</td>\n",
       "      <td>No</td>\n",
       "      <td>No</td>\n",
       "      <td>34</td>\n",
       "      <td>Yes</td>\n",
       "      <td>No</td>\n",
       "      <td>DSL</td>\n",
       "      <td>Yes</td>\n",
       "      <td>...</td>\n",
       "      <td>Yes</td>\n",
       "      <td>No</td>\n",
       "      <td>No</td>\n",
       "      <td>No</td>\n",
       "      <td>One year</td>\n",
       "      <td>No</td>\n",
       "      <td>Mailed check</td>\n",
       "      <td>56.95</td>\n",
       "      <td>1889.5</td>\n",
       "      <td>No</td>\n",
       "    </tr>\n",
       "    <tr>\n",
       "      <th>2</th>\n",
       "      <td>3668-QPYBK</td>\n",
       "      <td>Male</td>\n",
       "      <td>0</td>\n",
       "      <td>No</td>\n",
       "      <td>No</td>\n",
       "      <td>2</td>\n",
       "      <td>Yes</td>\n",
       "      <td>No</td>\n",
       "      <td>DSL</td>\n",
       "      <td>Yes</td>\n",
       "      <td>...</td>\n",
       "      <td>No</td>\n",
       "      <td>No</td>\n",
       "      <td>No</td>\n",
       "      <td>No</td>\n",
       "      <td>Month-to-month</td>\n",
       "      <td>Yes</td>\n",
       "      <td>Mailed check</td>\n",
       "      <td>53.85</td>\n",
       "      <td>108.15</td>\n",
       "      <td>Yes</td>\n",
       "    </tr>\n",
       "    <tr>\n",
       "      <th>3</th>\n",
       "      <td>7795-CFOCW</td>\n",
       "      <td>Male</td>\n",
       "      <td>0</td>\n",
       "      <td>No</td>\n",
       "      <td>No</td>\n",
       "      <td>45</td>\n",
       "      <td>No</td>\n",
       "      <td>No phone service</td>\n",
       "      <td>DSL</td>\n",
       "      <td>Yes</td>\n",
       "      <td>...</td>\n",
       "      <td>Yes</td>\n",
       "      <td>Yes</td>\n",
       "      <td>No</td>\n",
       "      <td>No</td>\n",
       "      <td>One year</td>\n",
       "      <td>No</td>\n",
       "      <td>Bank transfer (automatic)</td>\n",
       "      <td>42.30</td>\n",
       "      <td>1840.75</td>\n",
       "      <td>No</td>\n",
       "    </tr>\n",
       "    <tr>\n",
       "      <th>4</th>\n",
       "      <td>9237-HQITU</td>\n",
       "      <td>Female</td>\n",
       "      <td>0</td>\n",
       "      <td>No</td>\n",
       "      <td>No</td>\n",
       "      <td>2</td>\n",
       "      <td>Yes</td>\n",
       "      <td>No</td>\n",
       "      <td>Fiber optic</td>\n",
       "      <td>No</td>\n",
       "      <td>...</td>\n",
       "      <td>No</td>\n",
       "      <td>No</td>\n",
       "      <td>No</td>\n",
       "      <td>No</td>\n",
       "      <td>Month-to-month</td>\n",
       "      <td>Yes</td>\n",
       "      <td>Electronic check</td>\n",
       "      <td>70.70</td>\n",
       "      <td>151.65</td>\n",
       "      <td>Yes</td>\n",
       "    </tr>\n",
       "    <tr>\n",
       "      <th>5</th>\n",
       "      <td>9305-CDSKC</td>\n",
       "      <td>Female</td>\n",
       "      <td>0</td>\n",
       "      <td>No</td>\n",
       "      <td>No</td>\n",
       "      <td>8</td>\n",
       "      <td>Yes</td>\n",
       "      <td>Yes</td>\n",
       "      <td>Fiber optic</td>\n",
       "      <td>No</td>\n",
       "      <td>...</td>\n",
       "      <td>Yes</td>\n",
       "      <td>No</td>\n",
       "      <td>Yes</td>\n",
       "      <td>Yes</td>\n",
       "      <td>Month-to-month</td>\n",
       "      <td>Yes</td>\n",
       "      <td>Electronic check</td>\n",
       "      <td>99.65</td>\n",
       "      <td>820.5</td>\n",
       "      <td>Yes</td>\n",
       "    </tr>\n",
       "    <tr>\n",
       "      <th>6</th>\n",
       "      <td>1452-KIOVK</td>\n",
       "      <td>Male</td>\n",
       "      <td>0</td>\n",
       "      <td>No</td>\n",
       "      <td>Yes</td>\n",
       "      <td>22</td>\n",
       "      <td>Yes</td>\n",
       "      <td>Yes</td>\n",
       "      <td>Fiber optic</td>\n",
       "      <td>No</td>\n",
       "      <td>...</td>\n",
       "      <td>No</td>\n",
       "      <td>No</td>\n",
       "      <td>Yes</td>\n",
       "      <td>No</td>\n",
       "      <td>Month-to-month</td>\n",
       "      <td>Yes</td>\n",
       "      <td>Credit card (automatic)</td>\n",
       "      <td>89.10</td>\n",
       "      <td>1949.4</td>\n",
       "      <td>No</td>\n",
       "    </tr>\n",
       "    <tr>\n",
       "      <th>7</th>\n",
       "      <td>6713-OKOMC</td>\n",
       "      <td>Female</td>\n",
       "      <td>0</td>\n",
       "      <td>No</td>\n",
       "      <td>No</td>\n",
       "      <td>10</td>\n",
       "      <td>No</td>\n",
       "      <td>No phone service</td>\n",
       "      <td>DSL</td>\n",
       "      <td>Yes</td>\n",
       "      <td>...</td>\n",
       "      <td>No</td>\n",
       "      <td>No</td>\n",
       "      <td>No</td>\n",
       "      <td>No</td>\n",
       "      <td>Month-to-month</td>\n",
       "      <td>No</td>\n",
       "      <td>Mailed check</td>\n",
       "      <td>29.75</td>\n",
       "      <td>301.9</td>\n",
       "      <td>No</td>\n",
       "    </tr>\n",
       "    <tr>\n",
       "      <th>8</th>\n",
       "      <td>7892-POOKP</td>\n",
       "      <td>Female</td>\n",
       "      <td>0</td>\n",
       "      <td>Yes</td>\n",
       "      <td>No</td>\n",
       "      <td>28</td>\n",
       "      <td>Yes</td>\n",
       "      <td>Yes</td>\n",
       "      <td>Fiber optic</td>\n",
       "      <td>No</td>\n",
       "      <td>...</td>\n",
       "      <td>Yes</td>\n",
       "      <td>Yes</td>\n",
       "      <td>Yes</td>\n",
       "      <td>Yes</td>\n",
       "      <td>Month-to-month</td>\n",
       "      <td>Yes</td>\n",
       "      <td>Electronic check</td>\n",
       "      <td>104.80</td>\n",
       "      <td>3046.05</td>\n",
       "      <td>Yes</td>\n",
       "    </tr>\n",
       "    <tr>\n",
       "      <th>9</th>\n",
       "      <td>6388-TABGU</td>\n",
       "      <td>Male</td>\n",
       "      <td>0</td>\n",
       "      <td>No</td>\n",
       "      <td>Yes</td>\n",
       "      <td>62</td>\n",
       "      <td>Yes</td>\n",
       "      <td>No</td>\n",
       "      <td>DSL</td>\n",
       "      <td>Yes</td>\n",
       "      <td>...</td>\n",
       "      <td>No</td>\n",
       "      <td>No</td>\n",
       "      <td>No</td>\n",
       "      <td>No</td>\n",
       "      <td>One year</td>\n",
       "      <td>No</td>\n",
       "      <td>Bank transfer (automatic)</td>\n",
       "      <td>56.15</td>\n",
       "      <td>3487.95</td>\n",
       "      <td>No</td>\n",
       "    </tr>\n",
       "  </tbody>\n",
       "</table>\n",
       "<p>10 rows × 21 columns</p>\n",
       "</div>"
      ],
      "text/plain": [
       "   customerID  gender  SeniorCitizen Partner Dependents  tenure PhoneService  \\\n",
       "0  7590-VHVEG  Female              0     Yes         No       1           No   \n",
       "1  5575-GNVDE    Male              0      No         No      34          Yes   \n",
       "2  3668-QPYBK    Male              0      No         No       2          Yes   \n",
       "3  7795-CFOCW    Male              0      No         No      45           No   \n",
       "4  9237-HQITU  Female              0      No         No       2          Yes   \n",
       "5  9305-CDSKC  Female              0      No         No       8          Yes   \n",
       "6  1452-KIOVK    Male              0      No        Yes      22          Yes   \n",
       "7  6713-OKOMC  Female              0      No         No      10           No   \n",
       "8  7892-POOKP  Female              0     Yes         No      28          Yes   \n",
       "9  6388-TABGU    Male              0      No        Yes      62          Yes   \n",
       "\n",
       "      MultipleLines InternetService OnlineSecurity  ... DeviceProtection  \\\n",
       "0  No phone service             DSL             No  ...               No   \n",
       "1                No             DSL            Yes  ...              Yes   \n",
       "2                No             DSL            Yes  ...               No   \n",
       "3  No phone service             DSL            Yes  ...              Yes   \n",
       "4                No     Fiber optic             No  ...               No   \n",
       "5               Yes     Fiber optic             No  ...              Yes   \n",
       "6               Yes     Fiber optic             No  ...               No   \n",
       "7  No phone service             DSL            Yes  ...               No   \n",
       "8               Yes     Fiber optic             No  ...              Yes   \n",
       "9                No             DSL            Yes  ...               No   \n",
       "\n",
       "  TechSupport StreamingTV StreamingMovies        Contract PaperlessBilling  \\\n",
       "0          No          No              No  Month-to-month              Yes   \n",
       "1          No          No              No        One year               No   \n",
       "2          No          No              No  Month-to-month              Yes   \n",
       "3         Yes          No              No        One year               No   \n",
       "4          No          No              No  Month-to-month              Yes   \n",
       "5          No         Yes             Yes  Month-to-month              Yes   \n",
       "6          No         Yes              No  Month-to-month              Yes   \n",
       "7          No          No              No  Month-to-month               No   \n",
       "8         Yes         Yes             Yes  Month-to-month              Yes   \n",
       "9          No          No              No        One year               No   \n",
       "\n",
       "               PaymentMethod MonthlyCharges  TotalCharges Churn  \n",
       "0           Electronic check          29.85         29.85    No  \n",
       "1               Mailed check          56.95        1889.5    No  \n",
       "2               Mailed check          53.85        108.15   Yes  \n",
       "3  Bank transfer (automatic)          42.30       1840.75    No  \n",
       "4           Electronic check          70.70        151.65   Yes  \n",
       "5           Electronic check          99.65         820.5   Yes  \n",
       "6    Credit card (automatic)          89.10        1949.4    No  \n",
       "7               Mailed check          29.75         301.9    No  \n",
       "8           Electronic check         104.80       3046.05   Yes  \n",
       "9  Bank transfer (automatic)          56.15       3487.95    No  \n",
       "\n",
       "[10 rows x 21 columns]"
      ]
     },
     "execution_count": 30,
     "metadata": {},
     "output_type": "execute_result"
    }
   ],
   "source": [
    "telco = pd.read_csv('WA_Fn-UseC_-Telco-Customer-Churn.csv')\n",
    "telco.head(10)"
   ]
  },
  {
   "cell_type": "code",
   "execution_count": 31,
   "metadata": {
    "colab": {
     "base_uri": "https://localhost:8080/",
     "height": 119
    },
    "colab_type": "code",
    "id": "F0KqrD9U4unX",
    "outputId": "039edade-ce11-4959-e77f-5728a6e7b615",
    "scrolled": true
   },
   "outputs": [
    {
     "data": {
      "text/plain": [
       "array(['customerID', 'gender', 'SeniorCitizen', 'Partner', 'Dependents',\n",
       "       'tenure', 'PhoneService', 'MultipleLines', 'InternetService',\n",
       "       'OnlineSecurity', 'OnlineBackup', 'DeviceProtection',\n",
       "       'TechSupport', 'StreamingTV', 'StreamingMovies', 'Contract',\n",
       "       'PaperlessBilling', 'PaymentMethod', 'MonthlyCharges',\n",
       "       'TotalCharges', 'Churn'], dtype=object)"
      ]
     },
     "execution_count": 31,
     "metadata": {},
     "output_type": "execute_result"
    }
   ],
   "source": [
    "telco_arr = np.array(telco.columns)\n",
    "telco_arr"
   ]
  },
  {
   "cell_type": "markdown",
   "metadata": {
    "colab_type": "text",
    "id": "qOhU_NnZ4unZ"
   },
   "source": [
    "#### Data Analysis"
   ]
  },
  {
   "cell_type": "code",
   "execution_count": 5,
   "metadata": {
    "colab": {
     "base_uri": "https://localhost:8080/",
     "height": 459
    },
    "colab_type": "code",
    "id": "Kmb0mHje4unZ",
    "outputId": "6e99d830-030b-43ab-b1ab-9c0671fdc35f",
    "scrolled": false
   },
   "outputs": [
    {
     "name": "stdout",
     "output_type": "stream",
     "text": [
      "<class 'pandas.core.frame.DataFrame'>\n",
      "RangeIndex: 7043 entries, 0 to 7042\n",
      "Data columns (total 21 columns):\n",
      "customerID          7043 non-null object\n",
      "gender              7043 non-null object\n",
      "SeniorCitizen       7043 non-null int64\n",
      "Partner             7043 non-null object\n",
      "Dependents          7043 non-null object\n",
      "tenure              7043 non-null int64\n",
      "PhoneService        7043 non-null object\n",
      "MultipleLines       7043 non-null object\n",
      "InternetService     7043 non-null object\n",
      "OnlineSecurity      7043 non-null object\n",
      "OnlineBackup        7043 non-null object\n",
      "DeviceProtection    7043 non-null object\n",
      "TechSupport         7043 non-null object\n",
      "StreamingTV         7043 non-null object\n",
      "StreamingMovies     7043 non-null object\n",
      "Contract            7043 non-null object\n",
      "PaperlessBilling    7043 non-null object\n",
      "PaymentMethod       7043 non-null object\n",
      "MonthlyCharges      7043 non-null float64\n",
      "TotalCharges        7043 non-null object\n",
      "Churn               7043 non-null object\n",
      "dtypes: float64(1), int64(2), object(18)\n",
      "memory usage: 1.1+ MB\n"
     ]
    }
   ],
   "source": [
    "telco.info()"
   ]
  },
  {
   "cell_type": "code",
   "execution_count": 32,
   "metadata": {
    "colab": {
     "base_uri": "https://localhost:8080/",
     "height": 391
    },
    "colab_type": "code",
    "id": "uDwi8tHL4unb",
    "outputId": "48b7be98-479f-4afa-a25e-a445f322f2ff",
    "scrolled": false
   },
   "outputs": [
    {
     "name": "stdout",
     "output_type": "stream",
     "text": [
      "Column Name : No. of unique value\n",
      "---------------------------------\n",
      "1  :  gender : 2\t--->  ['Female', 'Male']\n",
      "2  :  SeniorCitizen : 2\t--->  [0, 1]\n",
      "3  :  Partner : 2\t--->  ['Yes', 'No']\n",
      "4  :  Dependents : 2\t--->  ['No', 'Yes']\n",
      "5  :  tenure : 73\t---> [Too Much Values]\n",
      "6  :  PhoneService : 2\t--->  ['No', 'Yes']\n",
      "7  :  MultipleLines : 3\t--->  ['No phone service', 'No', 'Yes']\n",
      "8  :  InternetService : 3\t--->  ['DSL', 'Fiber optic', 'No']\n",
      "9  :  OnlineSecurity : 3\t--->  ['No', 'Yes', 'No internet service']\n",
      "10  :  OnlineBackup : 3\t--->  ['Yes', 'No', 'No internet service']\n",
      "11  :  DeviceProtection : 3\t--->  ['No', 'Yes', 'No internet service']\n",
      "12  :  TechSupport : 3\t--->  ['No', 'Yes', 'No internet service']\n",
      "13  :  StreamingTV : 3\t--->  ['No', 'Yes', 'No internet service']\n",
      "14  :  StreamingMovies : 3\t--->  ['No', 'Yes', 'No internet service']\n",
      "15  :  Contract : 3\t--->  ['Month-to-month', 'One year', 'Two year']\n",
      "16  :  PaperlessBilling : 2\t--->  ['Yes', 'No']\n",
      "17  :  PaymentMethod : 4\t--->  ['Electronic check', 'Mailed check', 'Bank transfer (automatic)', 'Credit card (automatic)']\n",
      "18  :  MonthlyCharges : 1585\t---> [Too Much Values]\n",
      "19  :  TotalCharges : 6531\t---> [Too Much Values]\n",
      "20  :  Churn : 2\t--->  ['No', 'Yes']\n"
     ]
    }
   ],
   "source": [
    "def unique_value_check():\n",
    "    len_col_telco = len(telco_arr)\n",
    "    print(\"Column Name : No. of unique value\")\n",
    "    print(\"---------------------------------\")\n",
    "    for i in range(1,len_col_telco):\n",
    "        val = len(np.unique(telco[telco_arr[i]]))\n",
    "        print(i,\" : \",telco_arr[i],\":\",val,end='\\t')\n",
    "        if(val<10):\n",
    "            print(\"---> \",telco[telco_arr[i]].unique().tolist())\n",
    "        else:\n",
    "            print(\"---> [Too Much Values]\")\n",
    "unique_value_check()"
   ]
  },
  {
   "cell_type": "markdown",
   "metadata": {},
   "source": [
    "#### Replacing Suitable Values to Dataset"
   ]
  },
  {
   "cell_type": "code",
   "execution_count": 34,
   "metadata": {
    "scrolled": true
   },
   "outputs": [
    {
     "data": {
      "text/html": [
       "<div>\n",
       "<style scoped>\n",
       "    .dataframe tbody tr th:only-of-type {\n",
       "        vertical-align: middle;\n",
       "    }\n",
       "\n",
       "    .dataframe tbody tr th {\n",
       "        vertical-align: top;\n",
       "    }\n",
       "\n",
       "    .dataframe thead th {\n",
       "        text-align: right;\n",
       "    }\n",
       "</style>\n",
       "<table border=\"1\" class=\"dataframe\">\n",
       "  <thead>\n",
       "    <tr style=\"text-align: right;\">\n",
       "      <th></th>\n",
       "      <th>customerID</th>\n",
       "      <th>gender</th>\n",
       "      <th>SeniorCitizen</th>\n",
       "      <th>Partner</th>\n",
       "      <th>Dependents</th>\n",
       "      <th>tenure</th>\n",
       "      <th>PhoneService</th>\n",
       "      <th>MultipleLines</th>\n",
       "      <th>InternetService</th>\n",
       "      <th>OnlineSecurity</th>\n",
       "      <th>...</th>\n",
       "      <th>DeviceProtection</th>\n",
       "      <th>TechSupport</th>\n",
       "      <th>StreamingTV</th>\n",
       "      <th>StreamingMovies</th>\n",
       "      <th>Contract</th>\n",
       "      <th>PaperlessBilling</th>\n",
       "      <th>PaymentMethod</th>\n",
       "      <th>MonthlyCharges</th>\n",
       "      <th>TotalCharges</th>\n",
       "      <th>Churn</th>\n",
       "    </tr>\n",
       "  </thead>\n",
       "  <tbody>\n",
       "    <tr>\n",
       "      <th>0</th>\n",
       "      <td>7590-VHVEG</td>\n",
       "      <td>Female</td>\n",
       "      <td>0</td>\n",
       "      <td>PartnerYes</td>\n",
       "      <td>Independent</td>\n",
       "      <td>1</td>\n",
       "      <td>PSNo</td>\n",
       "      <td>MLNo</td>\n",
       "      <td>DSL</td>\n",
       "      <td>OSNo</td>\n",
       "      <td>...</td>\n",
       "      <td>DPNo</td>\n",
       "      <td>TSNo</td>\n",
       "      <td>STVNo</td>\n",
       "      <td>SMNo</td>\n",
       "      <td>Month-to-month</td>\n",
       "      <td>PLBYes</td>\n",
       "      <td>Electronic check</td>\n",
       "      <td>29.85</td>\n",
       "      <td>29.85</td>\n",
       "      <td>No</td>\n",
       "    </tr>\n",
       "    <tr>\n",
       "      <th>1</th>\n",
       "      <td>5575-GNVDE</td>\n",
       "      <td>Male</td>\n",
       "      <td>0</td>\n",
       "      <td>PartnerNo</td>\n",
       "      <td>Independent</td>\n",
       "      <td>34</td>\n",
       "      <td>PSYes</td>\n",
       "      <td>MLNo</td>\n",
       "      <td>DSL</td>\n",
       "      <td>OSYes</td>\n",
       "      <td>...</td>\n",
       "      <td>DPYes</td>\n",
       "      <td>TSNo</td>\n",
       "      <td>STVNo</td>\n",
       "      <td>SMNo</td>\n",
       "      <td>One year</td>\n",
       "      <td>PLBNo</td>\n",
       "      <td>Mailed check</td>\n",
       "      <td>56.95</td>\n",
       "      <td>1889.5</td>\n",
       "      <td>No</td>\n",
       "    </tr>\n",
       "    <tr>\n",
       "      <th>2</th>\n",
       "      <td>3668-QPYBK</td>\n",
       "      <td>Male</td>\n",
       "      <td>0</td>\n",
       "      <td>PartnerNo</td>\n",
       "      <td>Independent</td>\n",
       "      <td>2</td>\n",
       "      <td>PSYes</td>\n",
       "      <td>MLNo</td>\n",
       "      <td>DSL</td>\n",
       "      <td>OSYes</td>\n",
       "      <td>...</td>\n",
       "      <td>DPNo</td>\n",
       "      <td>TSNo</td>\n",
       "      <td>STVNo</td>\n",
       "      <td>SMNo</td>\n",
       "      <td>Month-to-month</td>\n",
       "      <td>PLBYes</td>\n",
       "      <td>Mailed check</td>\n",
       "      <td>53.85</td>\n",
       "      <td>108.15</td>\n",
       "      <td>Yes</td>\n",
       "    </tr>\n",
       "    <tr>\n",
       "      <th>3</th>\n",
       "      <td>7795-CFOCW</td>\n",
       "      <td>Male</td>\n",
       "      <td>0</td>\n",
       "      <td>PartnerNo</td>\n",
       "      <td>Independent</td>\n",
       "      <td>45</td>\n",
       "      <td>PSNo</td>\n",
       "      <td>MLNo</td>\n",
       "      <td>DSL</td>\n",
       "      <td>OSYes</td>\n",
       "      <td>...</td>\n",
       "      <td>DPYes</td>\n",
       "      <td>TSYes</td>\n",
       "      <td>STVNo</td>\n",
       "      <td>SMNo</td>\n",
       "      <td>One year</td>\n",
       "      <td>PLBNo</td>\n",
       "      <td>Bank transfer (automatic)</td>\n",
       "      <td>42.30</td>\n",
       "      <td>1840.75</td>\n",
       "      <td>No</td>\n",
       "    </tr>\n",
       "    <tr>\n",
       "      <th>4</th>\n",
       "      <td>9237-HQITU</td>\n",
       "      <td>Female</td>\n",
       "      <td>0</td>\n",
       "      <td>PartnerNo</td>\n",
       "      <td>Independent</td>\n",
       "      <td>2</td>\n",
       "      <td>PSYes</td>\n",
       "      <td>MLNo</td>\n",
       "      <td>Fiber optic</td>\n",
       "      <td>OSNo</td>\n",
       "      <td>...</td>\n",
       "      <td>DPNo</td>\n",
       "      <td>TSNo</td>\n",
       "      <td>STVNo</td>\n",
       "      <td>SMNo</td>\n",
       "      <td>Month-to-month</td>\n",
       "      <td>PLBYes</td>\n",
       "      <td>Electronic check</td>\n",
       "      <td>70.70</td>\n",
       "      <td>151.65</td>\n",
       "      <td>Yes</td>\n",
       "    </tr>\n",
       "    <tr>\n",
       "      <th>5</th>\n",
       "      <td>9305-CDSKC</td>\n",
       "      <td>Female</td>\n",
       "      <td>0</td>\n",
       "      <td>PartnerNo</td>\n",
       "      <td>Independent</td>\n",
       "      <td>8</td>\n",
       "      <td>PSYes</td>\n",
       "      <td>MLYes</td>\n",
       "      <td>Fiber optic</td>\n",
       "      <td>OSNo</td>\n",
       "      <td>...</td>\n",
       "      <td>DPYes</td>\n",
       "      <td>TSNo</td>\n",
       "      <td>STVYes</td>\n",
       "      <td>SMYes</td>\n",
       "      <td>Month-to-month</td>\n",
       "      <td>PLBYes</td>\n",
       "      <td>Electronic check</td>\n",
       "      <td>99.65</td>\n",
       "      <td>820.5</td>\n",
       "      <td>Yes</td>\n",
       "    </tr>\n",
       "    <tr>\n",
       "      <th>6</th>\n",
       "      <td>1452-KIOVK</td>\n",
       "      <td>Male</td>\n",
       "      <td>0</td>\n",
       "      <td>PartnerNo</td>\n",
       "      <td>Dependent</td>\n",
       "      <td>22</td>\n",
       "      <td>PSYes</td>\n",
       "      <td>MLYes</td>\n",
       "      <td>Fiber optic</td>\n",
       "      <td>OSNo</td>\n",
       "      <td>...</td>\n",
       "      <td>DPNo</td>\n",
       "      <td>TSNo</td>\n",
       "      <td>STVYes</td>\n",
       "      <td>SMNo</td>\n",
       "      <td>Month-to-month</td>\n",
       "      <td>PLBYes</td>\n",
       "      <td>Credit card (automatic)</td>\n",
       "      <td>89.10</td>\n",
       "      <td>1949.4</td>\n",
       "      <td>No</td>\n",
       "    </tr>\n",
       "    <tr>\n",
       "      <th>7</th>\n",
       "      <td>6713-OKOMC</td>\n",
       "      <td>Female</td>\n",
       "      <td>0</td>\n",
       "      <td>PartnerNo</td>\n",
       "      <td>Independent</td>\n",
       "      <td>10</td>\n",
       "      <td>PSNo</td>\n",
       "      <td>MLNo</td>\n",
       "      <td>DSL</td>\n",
       "      <td>OSYes</td>\n",
       "      <td>...</td>\n",
       "      <td>DPNo</td>\n",
       "      <td>TSNo</td>\n",
       "      <td>STVNo</td>\n",
       "      <td>SMNo</td>\n",
       "      <td>Month-to-month</td>\n",
       "      <td>PLBNo</td>\n",
       "      <td>Mailed check</td>\n",
       "      <td>29.75</td>\n",
       "      <td>301.9</td>\n",
       "      <td>No</td>\n",
       "    </tr>\n",
       "    <tr>\n",
       "      <th>8</th>\n",
       "      <td>7892-POOKP</td>\n",
       "      <td>Female</td>\n",
       "      <td>0</td>\n",
       "      <td>PartnerYes</td>\n",
       "      <td>Independent</td>\n",
       "      <td>28</td>\n",
       "      <td>PSYes</td>\n",
       "      <td>MLYes</td>\n",
       "      <td>Fiber optic</td>\n",
       "      <td>OSNo</td>\n",
       "      <td>...</td>\n",
       "      <td>DPYes</td>\n",
       "      <td>TSYes</td>\n",
       "      <td>STVYes</td>\n",
       "      <td>SMYes</td>\n",
       "      <td>Month-to-month</td>\n",
       "      <td>PLBYes</td>\n",
       "      <td>Electronic check</td>\n",
       "      <td>104.80</td>\n",
       "      <td>3046.05</td>\n",
       "      <td>Yes</td>\n",
       "    </tr>\n",
       "    <tr>\n",
       "      <th>9</th>\n",
       "      <td>6388-TABGU</td>\n",
       "      <td>Male</td>\n",
       "      <td>0</td>\n",
       "      <td>PartnerNo</td>\n",
       "      <td>Dependent</td>\n",
       "      <td>62</td>\n",
       "      <td>PSYes</td>\n",
       "      <td>MLNo</td>\n",
       "      <td>DSL</td>\n",
       "      <td>OSYes</td>\n",
       "      <td>...</td>\n",
       "      <td>DPNo</td>\n",
       "      <td>TSNo</td>\n",
       "      <td>STVNo</td>\n",
       "      <td>SMNo</td>\n",
       "      <td>One year</td>\n",
       "      <td>PLBNo</td>\n",
       "      <td>Bank transfer (automatic)</td>\n",
       "      <td>56.15</td>\n",
       "      <td>3487.95</td>\n",
       "      <td>No</td>\n",
       "    </tr>\n",
       "  </tbody>\n",
       "</table>\n",
       "<p>10 rows × 21 columns</p>\n",
       "</div>"
      ],
      "text/plain": [
       "   customerID  gender  SeniorCitizen     Partner   Dependents  tenure  \\\n",
       "0  7590-VHVEG  Female              0  PartnerYes  Independent       1   \n",
       "1  5575-GNVDE    Male              0   PartnerNo  Independent      34   \n",
       "2  3668-QPYBK    Male              0   PartnerNo  Independent       2   \n",
       "3  7795-CFOCW    Male              0   PartnerNo  Independent      45   \n",
       "4  9237-HQITU  Female              0   PartnerNo  Independent       2   \n",
       "5  9305-CDSKC  Female              0   PartnerNo  Independent       8   \n",
       "6  1452-KIOVK    Male              0   PartnerNo    Dependent      22   \n",
       "7  6713-OKOMC  Female              0   PartnerNo  Independent      10   \n",
       "8  7892-POOKP  Female              0  PartnerYes  Independent      28   \n",
       "9  6388-TABGU    Male              0   PartnerNo    Dependent      62   \n",
       "\n",
       "  PhoneService MultipleLines InternetService OnlineSecurity  ...  \\\n",
       "0         PSNo          MLNo             DSL           OSNo  ...   \n",
       "1        PSYes          MLNo             DSL          OSYes  ...   \n",
       "2        PSYes          MLNo             DSL          OSYes  ...   \n",
       "3         PSNo          MLNo             DSL          OSYes  ...   \n",
       "4        PSYes          MLNo     Fiber optic           OSNo  ...   \n",
       "5        PSYes         MLYes     Fiber optic           OSNo  ...   \n",
       "6        PSYes         MLYes     Fiber optic           OSNo  ...   \n",
       "7         PSNo          MLNo             DSL          OSYes  ...   \n",
       "8        PSYes         MLYes     Fiber optic           OSNo  ...   \n",
       "9        PSYes          MLNo             DSL          OSYes  ...   \n",
       "\n",
       "  DeviceProtection TechSupport StreamingTV StreamingMovies        Contract  \\\n",
       "0             DPNo        TSNo       STVNo            SMNo  Month-to-month   \n",
       "1            DPYes        TSNo       STVNo            SMNo        One year   \n",
       "2             DPNo        TSNo       STVNo            SMNo  Month-to-month   \n",
       "3            DPYes       TSYes       STVNo            SMNo        One year   \n",
       "4             DPNo        TSNo       STVNo            SMNo  Month-to-month   \n",
       "5            DPYes        TSNo      STVYes           SMYes  Month-to-month   \n",
       "6             DPNo        TSNo      STVYes            SMNo  Month-to-month   \n",
       "7             DPNo        TSNo       STVNo            SMNo  Month-to-month   \n",
       "8            DPYes       TSYes      STVYes           SMYes  Month-to-month   \n",
       "9             DPNo        TSNo       STVNo            SMNo        One year   \n",
       "\n",
       "  PaperlessBilling              PaymentMethod MonthlyCharges  TotalCharges  \\\n",
       "0           PLBYes           Electronic check          29.85         29.85   \n",
       "1            PLBNo               Mailed check          56.95        1889.5   \n",
       "2           PLBYes               Mailed check          53.85        108.15   \n",
       "3            PLBNo  Bank transfer (automatic)          42.30       1840.75   \n",
       "4           PLBYes           Electronic check          70.70        151.65   \n",
       "5           PLBYes           Electronic check          99.65         820.5   \n",
       "6           PLBYes    Credit card (automatic)          89.10        1949.4   \n",
       "7            PLBNo               Mailed check          29.75         301.9   \n",
       "8           PLBYes           Electronic check         104.80       3046.05   \n",
       "9            PLBNo  Bank transfer (automatic)          56.15       3487.95   \n",
       "\n",
       "  Churn  \n",
       "0    No  \n",
       "1    No  \n",
       "2   Yes  \n",
       "3    No  \n",
       "4   Yes  \n",
       "5   Yes  \n",
       "6    No  \n",
       "7    No  \n",
       "8   Yes  \n",
       "9    No  \n",
       "\n",
       "[10 rows x 21 columns]"
      ]
     },
     "execution_count": 34,
     "metadata": {},
     "output_type": "execute_result"
    }
   ],
   "source": [
    "telco['Partner'].replace(to_replace=[['No'],['Yes']],value=['PartnerNo','PartnerYes'],inplace=True)\n",
    "telco['Dependents'].replace(to_replace=[['No'],['Yes']],value=['Independent','Dependent'],inplace=True)\n",
    "telco['PhoneService'].replace(to_replace=[['No'],['Yes']],value=['PSNo','PSYes'],inplace=True)\n",
    "telco['PaperlessBilling'].replace(to_replace=[['No'],['Yes']],value=['PLBNo','PLBYes'],inplace=True)\n",
    "telco['MultipleLines'].replace(to_replace=[['No phone service'],['No'],['Yes']],value=['MLNo','MLNo','MLYes'],inplace=True)\n",
    "telco['OnlineSecurity'].replace(to_replace=[['No internet service'],['No'],['Yes']],value=['OSNo','OSNo','OSYes'],inplace=True)\n",
    "telco['OnlineBackup'].replace(to_replace=[['No internet service'],['No'],['Yes']],value=['OBNo','OBNo','OBYes'],inplace=True)\n",
    "telco['DeviceProtection'].replace(to_replace=[['No internet service'],['No'],['Yes']],value=['DPNo','DPNo','DPYes'],inplace=True)\n",
    "telco['TechSupport'].replace(to_replace=[['No internet service'],['No'],['Yes']],value=['TSNo','TSNo','TSYes'],inplace=True)\n",
    "telco['StreamingTV'].replace(to_replace=[['No internet service'],['No'],['Yes']],value=['STVNo','STVNo','STVYes'],inplace=True)\n",
    "telco['StreamingMovies'].replace(to_replace=[['No internet service'],['No'],['Yes']],value=['SMNo','SMNo','SMYes'],inplace=True)\n",
    "telco.head(10)"
   ]
  },
  {
   "cell_type": "code",
   "execution_count": 35,
   "metadata": {
    "scrolled": false
   },
   "outputs": [
    {
     "name": "stdout",
     "output_type": "stream",
     "text": [
      "Column Name : No. of unique value\n",
      "---------------------------------\n",
      "1  :  gender : 2\t--->  ['Female', 'Male']\n",
      "2  :  SeniorCitizen : 2\t--->  [0, 1]\n",
      "3  :  Partner : 2\t--->  ['PartnerYes', 'PartnerNo']\n",
      "4  :  Dependents : 2\t--->  ['Independent', 'Dependent']\n",
      "5  :  tenure : 73\t---> [Too Much Values]\n",
      "6  :  PhoneService : 2\t--->  ['PSNo', 'PSYes']\n",
      "7  :  MultipleLines : 2\t--->  ['MLNo', 'MLYes']\n",
      "8  :  InternetService : 3\t--->  ['DSL', 'Fiber optic', 'No']\n",
      "9  :  OnlineSecurity : 2\t--->  ['OSNo', 'OSYes']\n",
      "10  :  OnlineBackup : 2\t--->  ['OBYes', 'OBNo']\n",
      "11  :  DeviceProtection : 2\t--->  ['DPNo', 'DPYes']\n",
      "12  :  TechSupport : 2\t--->  ['TSNo', 'TSYes']\n",
      "13  :  StreamingTV : 2\t--->  ['STVNo', 'STVYes']\n",
      "14  :  StreamingMovies : 2\t--->  ['SMNo', 'SMYes']\n",
      "15  :  Contract : 3\t--->  ['Month-to-month', 'One year', 'Two year']\n",
      "16  :  PaperlessBilling : 2\t--->  ['PLBYes', 'PLBNo']\n",
      "17  :  PaymentMethod : 4\t--->  ['Electronic check', 'Mailed check', 'Bank transfer (automatic)', 'Credit card (automatic)']\n",
      "18  :  MonthlyCharges : 1585\t---> [Too Much Values]\n",
      "19  :  TotalCharges : 6531\t---> [Too Much Values]\n",
      "20  :  Churn : 2\t--->  ['No', 'Yes']\n"
     ]
    }
   ],
   "source": [
    "unique_value_check()"
   ]
  },
  {
   "cell_type": "code",
   "execution_count": 37,
   "metadata": {
    "scrolled": true
   },
   "outputs": [
    {
     "data": {
      "text/html": [
       "<div>\n",
       "<style scoped>\n",
       "    .dataframe tbody tr th:only-of-type {\n",
       "        vertical-align: middle;\n",
       "    }\n",
       "\n",
       "    .dataframe tbody tr th {\n",
       "        vertical-align: top;\n",
       "    }\n",
       "\n",
       "    .dataframe thead th {\n",
       "        text-align: right;\n",
       "    }\n",
       "</style>\n",
       "<table border=\"1\" class=\"dataframe\">\n",
       "  <thead>\n",
       "    <tr style=\"text-align: right;\">\n",
       "      <th></th>\n",
       "      <th>customerID</th>\n",
       "      <th>gender</th>\n",
       "      <th>SeniorCitizen</th>\n",
       "      <th>Partner</th>\n",
       "      <th>Dependents</th>\n",
       "      <th>tenure</th>\n",
       "      <th>PhoneService</th>\n",
       "      <th>MultipleLines</th>\n",
       "      <th>InternetService</th>\n",
       "      <th>OnlineSecurity</th>\n",
       "      <th>...</th>\n",
       "      <th>DeviceProtection</th>\n",
       "      <th>TechSupport</th>\n",
       "      <th>StreamingTV</th>\n",
       "      <th>StreamingMovies</th>\n",
       "      <th>Contract</th>\n",
       "      <th>PaperlessBilling</th>\n",
       "      <th>PaymentMethod</th>\n",
       "      <th>MonthlyCharges</th>\n",
       "      <th>TotalCharges</th>\n",
       "      <th>Churn</th>\n",
       "    </tr>\n",
       "  </thead>\n",
       "  <tbody>\n",
       "    <tr>\n",
       "      <th>0</th>\n",
       "      <td>7590-VHVEG</td>\n",
       "      <td>Female</td>\n",
       "      <td>0</td>\n",
       "      <td>PartnerYes</td>\n",
       "      <td>Independent</td>\n",
       "      <td>1</td>\n",
       "      <td>PSNo</td>\n",
       "      <td>MLNo</td>\n",
       "      <td>DSL</td>\n",
       "      <td>OSNo</td>\n",
       "      <td>...</td>\n",
       "      <td>DPNo</td>\n",
       "      <td>TSNo</td>\n",
       "      <td>STVNo</td>\n",
       "      <td>SMNo</td>\n",
       "      <td>Month-to-month</td>\n",
       "      <td>PLBYes</td>\n",
       "      <td>Electronic check</td>\n",
       "      <td>29.85</td>\n",
       "      <td>29.85</td>\n",
       "      <td>No</td>\n",
       "    </tr>\n",
       "    <tr>\n",
       "      <th>1</th>\n",
       "      <td>5575-GNVDE</td>\n",
       "      <td>Male</td>\n",
       "      <td>0</td>\n",
       "      <td>PartnerNo</td>\n",
       "      <td>Independent</td>\n",
       "      <td>34</td>\n",
       "      <td>PSYes</td>\n",
       "      <td>MLNo</td>\n",
       "      <td>DSL</td>\n",
       "      <td>OSYes</td>\n",
       "      <td>...</td>\n",
       "      <td>DPYes</td>\n",
       "      <td>TSNo</td>\n",
       "      <td>STVNo</td>\n",
       "      <td>SMNo</td>\n",
       "      <td>One year</td>\n",
       "      <td>PLBNo</td>\n",
       "      <td>Mailed check</td>\n",
       "      <td>56.95</td>\n",
       "      <td>1889.5</td>\n",
       "      <td>No</td>\n",
       "    </tr>\n",
       "    <tr>\n",
       "      <th>2</th>\n",
       "      <td>3668-QPYBK</td>\n",
       "      <td>Male</td>\n",
       "      <td>0</td>\n",
       "      <td>PartnerNo</td>\n",
       "      <td>Independent</td>\n",
       "      <td>2</td>\n",
       "      <td>PSYes</td>\n",
       "      <td>MLNo</td>\n",
       "      <td>DSL</td>\n",
       "      <td>OSYes</td>\n",
       "      <td>...</td>\n",
       "      <td>DPNo</td>\n",
       "      <td>TSNo</td>\n",
       "      <td>STVNo</td>\n",
       "      <td>SMNo</td>\n",
       "      <td>Month-to-month</td>\n",
       "      <td>PLBYes</td>\n",
       "      <td>Mailed check</td>\n",
       "      <td>53.85</td>\n",
       "      <td>108.15</td>\n",
       "      <td>Yes</td>\n",
       "    </tr>\n",
       "    <tr>\n",
       "      <th>3</th>\n",
       "      <td>7795-CFOCW</td>\n",
       "      <td>Male</td>\n",
       "      <td>0</td>\n",
       "      <td>PartnerNo</td>\n",
       "      <td>Independent</td>\n",
       "      <td>45</td>\n",
       "      <td>PSNo</td>\n",
       "      <td>MLNo</td>\n",
       "      <td>DSL</td>\n",
       "      <td>OSYes</td>\n",
       "      <td>...</td>\n",
       "      <td>DPYes</td>\n",
       "      <td>TSYes</td>\n",
       "      <td>STVNo</td>\n",
       "      <td>SMNo</td>\n",
       "      <td>One year</td>\n",
       "      <td>PLBNo</td>\n",
       "      <td>Bank transfer (automatic)</td>\n",
       "      <td>42.30</td>\n",
       "      <td>1840.75</td>\n",
       "      <td>No</td>\n",
       "    </tr>\n",
       "    <tr>\n",
       "      <th>4</th>\n",
       "      <td>9237-HQITU</td>\n",
       "      <td>Female</td>\n",
       "      <td>0</td>\n",
       "      <td>PartnerNo</td>\n",
       "      <td>Independent</td>\n",
       "      <td>2</td>\n",
       "      <td>PSYes</td>\n",
       "      <td>MLNo</td>\n",
       "      <td>Fiber optic</td>\n",
       "      <td>OSNo</td>\n",
       "      <td>...</td>\n",
       "      <td>DPNo</td>\n",
       "      <td>TSNo</td>\n",
       "      <td>STVNo</td>\n",
       "      <td>SMNo</td>\n",
       "      <td>Month-to-month</td>\n",
       "      <td>PLBYes</td>\n",
       "      <td>Electronic check</td>\n",
       "      <td>70.70</td>\n",
       "      <td>151.65</td>\n",
       "      <td>Yes</td>\n",
       "    </tr>\n",
       "    <tr>\n",
       "      <th>5</th>\n",
       "      <td>9305-CDSKC</td>\n",
       "      <td>Female</td>\n",
       "      <td>0</td>\n",
       "      <td>PartnerNo</td>\n",
       "      <td>Independent</td>\n",
       "      <td>8</td>\n",
       "      <td>PSYes</td>\n",
       "      <td>MLYes</td>\n",
       "      <td>Fiber optic</td>\n",
       "      <td>OSNo</td>\n",
       "      <td>...</td>\n",
       "      <td>DPYes</td>\n",
       "      <td>TSNo</td>\n",
       "      <td>STVYes</td>\n",
       "      <td>SMYes</td>\n",
       "      <td>Month-to-month</td>\n",
       "      <td>PLBYes</td>\n",
       "      <td>Electronic check</td>\n",
       "      <td>99.65</td>\n",
       "      <td>820.5</td>\n",
       "      <td>Yes</td>\n",
       "    </tr>\n",
       "    <tr>\n",
       "      <th>6</th>\n",
       "      <td>1452-KIOVK</td>\n",
       "      <td>Male</td>\n",
       "      <td>0</td>\n",
       "      <td>PartnerNo</td>\n",
       "      <td>Dependent</td>\n",
       "      <td>22</td>\n",
       "      <td>PSYes</td>\n",
       "      <td>MLYes</td>\n",
       "      <td>Fiber optic</td>\n",
       "      <td>OSNo</td>\n",
       "      <td>...</td>\n",
       "      <td>DPNo</td>\n",
       "      <td>TSNo</td>\n",
       "      <td>STVYes</td>\n",
       "      <td>SMNo</td>\n",
       "      <td>Month-to-month</td>\n",
       "      <td>PLBYes</td>\n",
       "      <td>Credit card (automatic)</td>\n",
       "      <td>89.10</td>\n",
       "      <td>1949.4</td>\n",
       "      <td>No</td>\n",
       "    </tr>\n",
       "    <tr>\n",
       "      <th>7</th>\n",
       "      <td>6713-OKOMC</td>\n",
       "      <td>Female</td>\n",
       "      <td>0</td>\n",
       "      <td>PartnerNo</td>\n",
       "      <td>Independent</td>\n",
       "      <td>10</td>\n",
       "      <td>PSNo</td>\n",
       "      <td>MLNo</td>\n",
       "      <td>DSL</td>\n",
       "      <td>OSYes</td>\n",
       "      <td>...</td>\n",
       "      <td>DPNo</td>\n",
       "      <td>TSNo</td>\n",
       "      <td>STVNo</td>\n",
       "      <td>SMNo</td>\n",
       "      <td>Month-to-month</td>\n",
       "      <td>PLBNo</td>\n",
       "      <td>Mailed check</td>\n",
       "      <td>29.75</td>\n",
       "      <td>301.9</td>\n",
       "      <td>No</td>\n",
       "    </tr>\n",
       "    <tr>\n",
       "      <th>8</th>\n",
       "      <td>7892-POOKP</td>\n",
       "      <td>Female</td>\n",
       "      <td>0</td>\n",
       "      <td>PartnerYes</td>\n",
       "      <td>Independent</td>\n",
       "      <td>28</td>\n",
       "      <td>PSYes</td>\n",
       "      <td>MLYes</td>\n",
       "      <td>Fiber optic</td>\n",
       "      <td>OSNo</td>\n",
       "      <td>...</td>\n",
       "      <td>DPYes</td>\n",
       "      <td>TSYes</td>\n",
       "      <td>STVYes</td>\n",
       "      <td>SMYes</td>\n",
       "      <td>Month-to-month</td>\n",
       "      <td>PLBYes</td>\n",
       "      <td>Electronic check</td>\n",
       "      <td>104.80</td>\n",
       "      <td>3046.05</td>\n",
       "      <td>Yes</td>\n",
       "    </tr>\n",
       "    <tr>\n",
       "      <th>9</th>\n",
       "      <td>6388-TABGU</td>\n",
       "      <td>Male</td>\n",
       "      <td>0</td>\n",
       "      <td>PartnerNo</td>\n",
       "      <td>Dependent</td>\n",
       "      <td>62</td>\n",
       "      <td>PSYes</td>\n",
       "      <td>MLNo</td>\n",
       "      <td>DSL</td>\n",
       "      <td>OSYes</td>\n",
       "      <td>...</td>\n",
       "      <td>DPNo</td>\n",
       "      <td>TSNo</td>\n",
       "      <td>STVNo</td>\n",
       "      <td>SMNo</td>\n",
       "      <td>One year</td>\n",
       "      <td>PLBNo</td>\n",
       "      <td>Bank transfer (automatic)</td>\n",
       "      <td>56.15</td>\n",
       "      <td>3487.95</td>\n",
       "      <td>No</td>\n",
       "    </tr>\n",
       "  </tbody>\n",
       "</table>\n",
       "<p>10 rows × 21 columns</p>\n",
       "</div>"
      ],
      "text/plain": [
       "   customerID  gender  SeniorCitizen     Partner   Dependents  tenure  \\\n",
       "0  7590-VHVEG  Female              0  PartnerYes  Independent       1   \n",
       "1  5575-GNVDE    Male              0   PartnerNo  Independent      34   \n",
       "2  3668-QPYBK    Male              0   PartnerNo  Independent       2   \n",
       "3  7795-CFOCW    Male              0   PartnerNo  Independent      45   \n",
       "4  9237-HQITU  Female              0   PartnerNo  Independent       2   \n",
       "5  9305-CDSKC  Female              0   PartnerNo  Independent       8   \n",
       "6  1452-KIOVK    Male              0   PartnerNo    Dependent      22   \n",
       "7  6713-OKOMC  Female              0   PartnerNo  Independent      10   \n",
       "8  7892-POOKP  Female              0  PartnerYes  Independent      28   \n",
       "9  6388-TABGU    Male              0   PartnerNo    Dependent      62   \n",
       "\n",
       "  PhoneService MultipleLines InternetService OnlineSecurity  ...  \\\n",
       "0         PSNo          MLNo             DSL           OSNo  ...   \n",
       "1        PSYes          MLNo             DSL          OSYes  ...   \n",
       "2        PSYes          MLNo             DSL          OSYes  ...   \n",
       "3         PSNo          MLNo             DSL          OSYes  ...   \n",
       "4        PSYes          MLNo     Fiber optic           OSNo  ...   \n",
       "5        PSYes         MLYes     Fiber optic           OSNo  ...   \n",
       "6        PSYes         MLYes     Fiber optic           OSNo  ...   \n",
       "7         PSNo          MLNo             DSL          OSYes  ...   \n",
       "8        PSYes         MLYes     Fiber optic           OSNo  ...   \n",
       "9        PSYes          MLNo             DSL          OSYes  ...   \n",
       "\n",
       "  DeviceProtection TechSupport StreamingTV StreamingMovies        Contract  \\\n",
       "0             DPNo        TSNo       STVNo            SMNo  Month-to-month   \n",
       "1            DPYes        TSNo       STVNo            SMNo        One year   \n",
       "2             DPNo        TSNo       STVNo            SMNo  Month-to-month   \n",
       "3            DPYes       TSYes       STVNo            SMNo        One year   \n",
       "4             DPNo        TSNo       STVNo            SMNo  Month-to-month   \n",
       "5            DPYes        TSNo      STVYes           SMYes  Month-to-month   \n",
       "6             DPNo        TSNo      STVYes            SMNo  Month-to-month   \n",
       "7             DPNo        TSNo       STVNo            SMNo  Month-to-month   \n",
       "8            DPYes       TSYes      STVYes           SMYes  Month-to-month   \n",
       "9             DPNo        TSNo       STVNo            SMNo        One year   \n",
       "\n",
       "  PaperlessBilling              PaymentMethod MonthlyCharges  TotalCharges  \\\n",
       "0           PLBYes           Electronic check          29.85         29.85   \n",
       "1            PLBNo               Mailed check          56.95        1889.5   \n",
       "2           PLBYes               Mailed check          53.85        108.15   \n",
       "3            PLBNo  Bank transfer (automatic)          42.30       1840.75   \n",
       "4           PLBYes           Electronic check          70.70        151.65   \n",
       "5           PLBYes           Electronic check          99.65         820.5   \n",
       "6           PLBYes    Credit card (automatic)          89.10        1949.4   \n",
       "7            PLBNo               Mailed check          29.75         301.9   \n",
       "8           PLBYes           Electronic check         104.80       3046.05   \n",
       "9            PLBNo  Bank transfer (automatic)          56.15       3487.95   \n",
       "\n",
       "  Churn  \n",
       "0    No  \n",
       "1    No  \n",
       "2   Yes  \n",
       "3    No  \n",
       "4   Yes  \n",
       "5   Yes  \n",
       "6    No  \n",
       "7    No  \n",
       "8   Yes  \n",
       "9    No  \n",
       "\n",
       "[10 rows x 21 columns]"
      ]
     },
     "execution_count": 37,
     "metadata": {},
     "output_type": "execute_result"
    }
   ],
   "source": [
    "telco.head(10)"
   ]
  },
  {
   "cell_type": "code",
   "execution_count": 38,
   "metadata": {},
   "outputs": [],
   "source": [
    "telco.to_csv('new_telco.csv')"
   ]
  },
  {
   "cell_type": "code",
   "execution_count": 39,
   "metadata": {
    "colab": {
     "base_uri": "https://localhost:8080/",
     "height": 300
    },
    "colab_type": "code",
    "id": "F7RH9-Ju4und",
    "outputId": "bafdf23b-6c1b-4813-c829-620076e3cc8f",
    "scrolled": true
   },
   "outputs": [
    {
     "data": {
      "text/plain": [
       "<matplotlib.axes._subplots.AxesSubplot at 0x1a37a26f320>"
      ]
     },
     "execution_count": 39,
     "metadata": {},
     "output_type": "execute_result"
    },
    {
     "data": {
      "image/png": "[encoded data removed]",
      "text/plain": [
       "<Figure size 432x288 with 1 Axes>"
      ]
     },
     "metadata": {
      "needs_background": "light"
     },
     "output_type": "display_data"
    }
   ],
   "source": [
    "sns.boxplot('tenure','Churn',data=telco)"
   ]
  },
  {
   "cell_type": "code",
   "execution_count": 40,
   "metadata": {
    "colab": {
     "base_uri": "https://localhost:8080/",
     "height": 300
    },
    "colab_type": "code",
    "id": "5Y3NJiM44unf",
    "outputId": "06128957-43e9-47de-87bd-ce4e782a5781",
    "scrolled": false
   },
   "outputs": [
    {
     "data": {
      "text/plain": [
       "<matplotlib.axes._subplots.AxesSubplot at 0x1a37a291e10>"
      ]
     },
     "execution_count": 40,
     "metadata": {},
     "output_type": "execute_result"
    },
    {
     "data": {
      "image/png": "[encoded data removed]",
      "text/plain": [
       "<Figure size 432x288 with 1 Axes>"
      ]
     },
     "metadata": {
      "needs_background": "light"
     },
     "output_type": "display_data"
    }
   ],
   "source": [
    "sns.boxplot('MonthlyCharges','Churn',data=telco)"
   ]
  },
  {
   "cell_type": "markdown",
   "metadata": {
    "colab_type": "text",
    "id": "TreXAWMJ4unh"
   },
   "source": [
    "#### droping of useless columns"
   ]
  },
  {
   "cell_type": "code",
   "execution_count": 41,
   "metadata": {
    "colab": {
     "base_uri": "https://localhost:8080/",
     "height": 377
    },
    "colab_type": "code",
    "id": "NYQ8PyYs4unh",
    "outputId": "16272e17-bd03-4d2f-f595-72e62bcd6c6c"
   },
   "outputs": [
    {
     "name": "stdout",
     "output_type": "stream",
     "text": [
      "   tenure  MonthlyCharges\n",
      "0       1           29.85\n",
      "1      34           56.95\n",
      "2       2           53.85\n",
      "3      45           42.30\n",
      "4       2           70.70\n"
     ]
    },
    {
     "data": {
      "text/html": [
       "<div>\n",
       "<style scoped>\n",
       "    .dataframe tbody tr th:only-of-type {\n",
       "        vertical-align: middle;\n",
       "    }\n",
       "\n",
       "    .dataframe tbody tr th {\n",
       "        vertical-align: top;\n",
       "    }\n",
       "\n",
       "    .dataframe thead th {\n",
       "        text-align: right;\n",
       "    }\n",
       "</style>\n",
       "<table border=\"1\" class=\"dataframe\">\n",
       "  <thead>\n",
       "    <tr style=\"text-align: right;\">\n",
       "      <th></th>\n",
       "      <th>gender</th>\n",
       "      <th>SeniorCitizen</th>\n",
       "      <th>Partner</th>\n",
       "      <th>Dependents</th>\n",
       "      <th>PhoneService</th>\n",
       "      <th>MultipleLines</th>\n",
       "      <th>InternetService</th>\n",
       "      <th>OnlineSecurity</th>\n",
       "      <th>OnlineBackup</th>\n",
       "      <th>DeviceProtection</th>\n",
       "      <th>TechSupport</th>\n",
       "      <th>StreamingTV</th>\n",
       "      <th>StreamingMovies</th>\n",
       "      <th>PaperlessBilling</th>\n",
       "      <th>PaymentMethod</th>\n",
       "    </tr>\n",
       "  </thead>\n",
       "  <tbody>\n",
       "    <tr>\n",
       "      <th>0</th>\n",
       "      <td>Female</td>\n",
       "      <td>0</td>\n",
       "      <td>PartnerYes</td>\n",
       "      <td>Independent</td>\n",
       "      <td>PSNo</td>\n",
       "      <td>MLNo</td>\n",
       "      <td>DSL</td>\n",
       "      <td>OSNo</td>\n",
       "      <td>OBYes</td>\n",
       "      <td>DPNo</td>\n",
       "      <td>TSNo</td>\n",
       "      <td>STVNo</td>\n",
       "      <td>SMNo</td>\n",
       "      <td>PLBYes</td>\n",
       "      <td>Electronic check</td>\n",
       "    </tr>\n",
       "    <tr>\n",
       "      <th>1</th>\n",
       "      <td>Male</td>\n",
       "      <td>0</td>\n",
       "      <td>PartnerNo</td>\n",
       "      <td>Independent</td>\n",
       "      <td>PSYes</td>\n",
       "      <td>MLNo</td>\n",
       "      <td>DSL</td>\n",
       "      <td>OSYes</td>\n",
       "      <td>OBNo</td>\n",
       "      <td>DPYes</td>\n",
       "      <td>TSNo</td>\n",
       "      <td>STVNo</td>\n",
       "      <td>SMNo</td>\n",
       "      <td>PLBNo</td>\n",
       "      <td>Mailed check</td>\n",
       "    </tr>\n",
       "    <tr>\n",
       "      <th>2</th>\n",
       "      <td>Male</td>\n",
       "      <td>0</td>\n",
       "      <td>PartnerNo</td>\n",
       "      <td>Independent</td>\n",
       "      <td>PSYes</td>\n",
       "      <td>MLNo</td>\n",
       "      <td>DSL</td>\n",
       "      <td>OSYes</td>\n",
       "      <td>OBYes</td>\n",
       "      <td>DPNo</td>\n",
       "      <td>TSNo</td>\n",
       "      <td>STVNo</td>\n",
       "      <td>SMNo</td>\n",
       "      <td>PLBYes</td>\n",
       "      <td>Mailed check</td>\n",
       "    </tr>\n",
       "    <tr>\n",
       "      <th>3</th>\n",
       "      <td>Male</td>\n",
       "      <td>0</td>\n",
       "      <td>PartnerNo</td>\n",
       "      <td>Independent</td>\n",
       "      <td>PSNo</td>\n",
       "      <td>MLNo</td>\n",
       "      <td>DSL</td>\n",
       "      <td>OSYes</td>\n",
       "      <td>OBNo</td>\n",
       "      <td>DPYes</td>\n",
       "      <td>TSYes</td>\n",
       "      <td>STVNo</td>\n",
       "      <td>SMNo</td>\n",
       "      <td>PLBNo</td>\n",
       "      <td>Bank transfer (automatic)</td>\n",
       "    </tr>\n",
       "    <tr>\n",
       "      <th>4</th>\n",
       "      <td>Female</td>\n",
       "      <td>0</td>\n",
       "      <td>PartnerNo</td>\n",
       "      <td>Independent</td>\n",
       "      <td>PSYes</td>\n",
       "      <td>MLNo</td>\n",
       "      <td>Fiber optic</td>\n",
       "      <td>OSNo</td>\n",
       "      <td>OBNo</td>\n",
       "      <td>DPNo</td>\n",
       "      <td>TSNo</td>\n",
       "      <td>STVNo</td>\n",
       "      <td>SMNo</td>\n",
       "      <td>PLBYes</td>\n",
       "      <td>Electronic check</td>\n",
       "    </tr>\n",
       "  </tbody>\n",
       "</table>\n",
       "</div>"
      ],
      "text/plain": [
       "   gender  SeniorCitizen     Partner   Dependents PhoneService MultipleLines  \\\n",
       "0  Female              0  PartnerYes  Independent         PSNo          MLNo   \n",
       "1    Male              0   PartnerNo  Independent        PSYes          MLNo   \n",
       "2    Male              0   PartnerNo  Independent        PSYes          MLNo   \n",
       "3    Male              0   PartnerNo  Independent         PSNo          MLNo   \n",
       "4  Female              0   PartnerNo  Independent        PSYes          MLNo   \n",
       "\n",
       "  InternetService OnlineSecurity OnlineBackup DeviceProtection TechSupport  \\\n",
       "0             DSL           OSNo        OBYes             DPNo        TSNo   \n",
       "1             DSL          OSYes         OBNo            DPYes        TSNo   \n",
       "2             DSL          OSYes        OBYes             DPNo        TSNo   \n",
       "3             DSL          OSYes         OBNo            DPYes       TSYes   \n",
       "4     Fiber optic           OSNo         OBNo             DPNo        TSNo   \n",
       "\n",
       "  StreamingTV StreamingMovies PaperlessBilling              PaymentMethod  \n",
       "0       STVNo            SMNo           PLBYes           Electronic check  \n",
       "1       STVNo            SMNo            PLBNo               Mailed check  \n",
       "2       STVNo            SMNo           PLBYes               Mailed check  \n",
       "3       STVNo            SMNo            PLBNo  Bank transfer (automatic)  \n",
       "4       STVNo            SMNo           PLBYes           Electronic check  "
      ]
     },
     "execution_count": 41,
     "metadata": {},
     "output_type": "execute_result"
    }
   ],
   "source": [
    "df = telco.drop(['customerID','tenure','MonthlyCharges','TotalCharges','Contract','Churn'],axis=1)\n",
    "df2 = telco.drop(['customerID', 'gender', 'SeniorCitizen', 'Partner', 'Dependents',\n",
    "    'PhoneService', 'MultipleLines', 'InternetService',\n",
    "       'OnlineSecurity', 'OnlineBackup', 'DeviceProtection', 'TechSupport',\n",
    "       'StreamingTV', 'StreamingMovies', 'Contract', 'PaperlessBilling',\n",
    "       'PaymentMethod', 'TotalCharges', 'Churn'],axis=1)\n",
    "y = telco['Churn']\n",
    "print(df2.head(5))\n",
    "df.head(5)"
   ]
  },
  {
   "cell_type": "markdown",
   "metadata": {
    "colab_type": "text",
    "id": "FsjLnngq4unj"
   },
   "source": [
    "##### Object to numpy array conversion"
   ]
  },
  {
   "cell_type": "code",
   "execution_count": 42,
   "metadata": {
    "colab": {
     "base_uri": "https://localhost:8080/",
     "height": 102
    },
    "colab_type": "code",
    "id": "tFkhZq5K4unk",
    "outputId": "7510fc8e-f5e3-405a-ac74-f10425f95700"
   },
   "outputs": [
    {
     "data": {
      "text/plain": [
       "array(['gender', 'SeniorCitizen', 'Partner', 'Dependents', 'PhoneService',\n",
       "       'MultipleLines', 'InternetService', 'OnlineSecurity',\n",
       "       'OnlineBackup', 'DeviceProtection', 'TechSupport', 'StreamingTV',\n",
       "       'StreamingMovies', 'PaperlessBilling', 'PaymentMethod'],\n",
       "      dtype=object)"
      ]
     },
     "execution_count": 42,
     "metadata": {},
     "output_type": "execute_result"
    }
   ],
   "source": [
    "df_arr = np.array(df.columns)\n",
    "df_arr"
   ]
  },
  {
   "cell_type": "code",
   "execution_count": 43,
   "metadata": {
    "colab": {
     "base_uri": "https://localhost:8080/",
     "height": 102
    },
    "colab_type": "code",
    "id": "SGYWvkqSAry5",
    "outputId": "b145e77e-252c-4e8b-817b-431520a65957"
   },
   "outputs": [
    {
     "data": {
      "text/plain": [
       "Index(['gender', 'SeniorCitizen', 'Partner', 'Dependents', 'PhoneService',\n",
       "       'MultipleLines', 'InternetService', 'OnlineSecurity', 'OnlineBackup',\n",
       "       'DeviceProtection', 'TechSupport', 'StreamingTV', 'StreamingMovies',\n",
       "       'PaperlessBilling', 'PaymentMethod'],\n",
       "      dtype='object')"
      ]
     },
     "execution_count": 43,
     "metadata": {},
     "output_type": "execute_result"
    }
   ],
   "source": [
    "feature_cols = df.columns\n",
    "feature_cols"
   ]
  },
  {
   "cell_type": "markdown",
   "metadata": {
    "colab_type": "text",
    "id": "61VQKO_b4unm"
   },
   "source": [
    "#### taking dummies and droping useless columns"
   ]
  },
  {
   "cell_type": "code",
   "execution_count": 44,
   "metadata": {
    "colab": {
     "base_uri": "https://localhost:8080/",
     "height": 258
    },
    "colab_type": "code",
    "id": "_ALXScm54unn",
    "outputId": "e10eb834-068f-4ae3-9084-8a355f8e3998",
    "scrolled": true
   },
   "outputs": [
    {
     "data": {
      "text/html": [
       "<div>\n",
       "<style scoped>\n",
       "    .dataframe tbody tr th:only-of-type {\n",
       "        vertical-align: middle;\n",
       "    }\n",
       "\n",
       "    .dataframe tbody tr th {\n",
       "        vertical-align: top;\n",
       "    }\n",
       "\n",
       "    .dataframe thead th {\n",
       "        text-align: right;\n",
       "    }\n",
       "</style>\n",
       "<table border=\"1\" class=\"dataframe\">\n",
       "  <thead>\n",
       "    <tr style=\"text-align: right;\">\n",
       "      <th></th>\n",
       "      <th>Male</th>\n",
       "      <th>1</th>\n",
       "      <th>PartnerYes</th>\n",
       "      <th>Independent</th>\n",
       "      <th>PSYes</th>\n",
       "      <th>MLYes</th>\n",
       "      <th>Fiber optic</th>\n",
       "      <th>No</th>\n",
       "      <th>OSYes</th>\n",
       "      <th>OBYes</th>\n",
       "      <th>DPYes</th>\n",
       "      <th>TSYes</th>\n",
       "      <th>STVYes</th>\n",
       "      <th>SMYes</th>\n",
       "      <th>PLBYes</th>\n",
       "      <th>Credit card (automatic)</th>\n",
       "      <th>Electronic check</th>\n",
       "      <th>Mailed check</th>\n",
       "    </tr>\n",
       "  </thead>\n",
       "  <tbody>\n",
       "    <tr>\n",
       "      <th>0</th>\n",
       "      <td>0</td>\n",
       "      <td>0</td>\n",
       "      <td>1</td>\n",
       "      <td>1</td>\n",
       "      <td>0</td>\n",
       "      <td>0</td>\n",
       "      <td>0</td>\n",
       "      <td>0</td>\n",
       "      <td>0</td>\n",
       "      <td>1</td>\n",
       "      <td>0</td>\n",
       "      <td>0</td>\n",
       "      <td>0</td>\n",
       "      <td>0</td>\n",
       "      <td>1</td>\n",
       "      <td>0</td>\n",
       "      <td>1</td>\n",
       "      <td>0</td>\n",
       "    </tr>\n",
       "    <tr>\n",
       "      <th>1</th>\n",
       "      <td>1</td>\n",
       "      <td>0</td>\n",
       "      <td>0</td>\n",
       "      <td>1</td>\n",
       "      <td>1</td>\n",
       "      <td>0</td>\n",
       "      <td>0</td>\n",
       "      <td>0</td>\n",
       "      <td>1</td>\n",
       "      <td>0</td>\n",
       "      <td>1</td>\n",
       "      <td>0</td>\n",
       "      <td>0</td>\n",
       "      <td>0</td>\n",
       "      <td>0</td>\n",
       "      <td>0</td>\n",
       "      <td>0</td>\n",
       "      <td>1</td>\n",
       "    </tr>\n",
       "    <tr>\n",
       "      <th>2</th>\n",
       "      <td>1</td>\n",
       "      <td>0</td>\n",
       "      <td>0</td>\n",
       "      <td>1</td>\n",
       "      <td>1</td>\n",
       "      <td>0</td>\n",
       "      <td>0</td>\n",
       "      <td>0</td>\n",
       "      <td>1</td>\n",
       "      <td>1</td>\n",
       "      <td>0</td>\n",
       "      <td>0</td>\n",
       "      <td>0</td>\n",
       "      <td>0</td>\n",
       "      <td>1</td>\n",
       "      <td>0</td>\n",
       "      <td>0</td>\n",
       "      <td>1</td>\n",
       "    </tr>\n",
       "    <tr>\n",
       "      <th>3</th>\n",
       "      <td>1</td>\n",
       "      <td>0</td>\n",
       "      <td>0</td>\n",
       "      <td>1</td>\n",
       "      <td>0</td>\n",
       "      <td>0</td>\n",
       "      <td>0</td>\n",
       "      <td>0</td>\n",
       "      <td>1</td>\n",
       "      <td>0</td>\n",
       "      <td>1</td>\n",
       "      <td>1</td>\n",
       "      <td>0</td>\n",
       "      <td>0</td>\n",
       "      <td>0</td>\n",
       "      <td>0</td>\n",
       "      <td>0</td>\n",
       "      <td>0</td>\n",
       "    </tr>\n",
       "    <tr>\n",
       "      <th>4</th>\n",
       "      <td>0</td>\n",
       "      <td>0</td>\n",
       "      <td>0</td>\n",
       "      <td>1</td>\n",
       "      <td>1</td>\n",
       "      <td>0</td>\n",
       "      <td>1</td>\n",
       "      <td>0</td>\n",
       "      <td>0</td>\n",
       "      <td>0</td>\n",
       "      <td>0</td>\n",
       "      <td>0</td>\n",
       "      <td>0</td>\n",
       "      <td>0</td>\n",
       "      <td>1</td>\n",
       "      <td>0</td>\n",
       "      <td>1</td>\n",
       "      <td>0</td>\n",
       "    </tr>\n",
       "  </tbody>\n",
       "</table>\n",
       "</div>"
      ],
      "text/plain": [
       "   Male  1  PartnerYes  Independent  PSYes  MLYes  Fiber optic  No  OSYes  \\\n",
       "0     0  0           1            1      0      0            0   0      0   \n",
       "1     1  0           0            1      1      0            0   0      1   \n",
       "2     1  0           0            1      1      0            0   0      1   \n",
       "3     1  0           0            1      0      0            0   0      1   \n",
       "4     0  0           0            1      1      0            1   0      0   \n",
       "\n",
       "   OBYes  DPYes  TSYes  STVYes  SMYes  PLBYes  Credit card (automatic)  \\\n",
       "0      1      0      0       0      0       1                        0   \n",
       "1      0      1      0       0      0       0                        0   \n",
       "2      1      0      0       0      0       1                        0   \n",
       "3      0      1      1       0      0       0                        0   \n",
       "4      0      0      0       0      0       1                        0   \n",
       "\n",
       "   Electronic check  Mailed check  \n",
       "0                 1             0  \n",
       "1                 0             1  \n",
       "2                 0             1  \n",
       "3                 0             0  \n",
       "4                 1             0  "
      ]
     },
     "execution_count": 44,
     "metadata": {},
     "output_type": "execute_result"
    }
   ],
   "source": [
    "len_col_df = len(df_arr)\n",
    "for i in range(len_col_df):\n",
    "    req_col = df_arr[i]\n",
    "    req_col = pd.get_dummies(df[req_col],drop_first=True)\n",
    "    df.drop(df_arr[i],axis=1,inplace=True)\n",
    "    df = pd.concat([df,req_col],axis=1)\n",
    "df.head()"
   ]
  },
  {
   "cell_type": "code",
   "execution_count": 45,
   "metadata": {
    "colab": {
     "base_uri": "https://localhost:8080/",
     "height": 119
    },
    "colab_type": "code",
    "id": "Q-hZ0rQY4uno",
    "outputId": "abd085c4-a711-4293-ef81-c43c73e4c8e6"
   },
   "outputs": [
    {
     "data": {
      "text/plain": [
       "array(['Male', 1, 'PartnerYes', 'Independent', 'PSYes', 'MLYes',\n",
       "       'Fiber optic', 'No', 'OSYes', 'OBYes', 'DPYes', 'TSYes', 'STVYes',\n",
       "       'SMYes', 'PLBYes', 'Credit card (automatic)', 'Electronic check',\n",
       "       'Mailed check'], dtype=object)"
      ]
     },
     "execution_count": 45,
     "metadata": {},
     "output_type": "execute_result"
    }
   ],
   "source": [
    "np.array(df.columns)"
   ]
  },
  {
   "cell_type": "code",
   "execution_count": 46,
   "metadata": {
    "colab": {
     "base_uri": "https://localhost:8080/",
     "height": 527
    },
    "colab_type": "code",
    "id": "jWBwcChv4unq",
    "outputId": "0e430839-7640-4a17-d0bb-d2d832996700"
   },
   "outputs": [
    {
     "name": "stdout",
     "output_type": "stream",
     "text": [
      "<class 'pandas.core.frame.DataFrame'>\n",
      "RangeIndex: 7043 entries, 0 to 7042\n",
      "Data columns (total 18 columns):\n",
      "Male                       7043 non-null uint8\n",
      "1                          7043 non-null uint8\n",
      "PartnerYes                 7043 non-null uint8\n",
      "Independent                7043 non-null uint8\n",
      "PSYes                      7043 non-null uint8\n",
      "MLYes                      7043 non-null uint8\n",
      "Fiber optic                7043 non-null uint8\n",
      "No                         7043 non-null uint8\n",
      "OSYes                      7043 non-null uint8\n",
      "OBYes                      7043 non-null uint8\n",
      "DPYes                      7043 non-null uint8\n",
      "TSYes                      7043 non-null uint8\n",
      "STVYes                     7043 non-null uint8\n",
      "SMYes                      7043 non-null uint8\n",
      "PLBYes                     7043 non-null uint8\n",
      "Credit card (automatic)    7043 non-null uint8\n",
      "Electronic check           7043 non-null uint8\n",
      "Mailed check               7043 non-null uint8\n",
      "dtypes: uint8(18)\n",
      "memory usage: 123.9 KB\n"
     ]
    }
   ],
   "source": [
    "df.info()"
   ]
  },
  {
   "cell_type": "markdown",
   "metadata": {
    "colab_type": "text",
    "id": "VKrOLGQ24unt"
   },
   "source": [
    "#### Making the data scaled¶"
   ]
  },
  {
   "cell_type": "code",
   "execution_count": 47,
   "metadata": {
    "colab": {},
    "colab_type": "code",
    "id": "dZfGnqE14unt"
   },
   "outputs": [],
   "source": [
    "from sklearn.preprocessing import StandardScaler"
   ]
  },
  {
   "cell_type": "code",
   "execution_count": 48,
   "metadata": {
    "colab": {},
    "colab_type": "code",
    "id": "1MDnGlPQ4unv"
   },
   "outputs": [],
   "source": [
    "scaler = StandardScaler()"
   ]
  },
  {
   "cell_type": "code",
   "execution_count": 49,
   "metadata": {
    "colab": {
     "base_uri": "https://localhost:8080/",
     "height": 34
    },
    "colab_type": "code",
    "id": "f96IRpV54unx",
    "outputId": "80dc73d3-7046-4fc5-fe33-c42461ba122c"
   },
   "outputs": [
    {
     "name": "stderr",
     "output_type": "stream",
     "text": [
      "C:\\ProgramData\\Anaconda3\\lib\\site-packages\\sklearn\\preprocessing\\data.py:645: DataConversionWarning: Data with input dtype int64, float64 were all converted to float64 by StandardScaler.\n",
      "  return self.partial_fit(X, y)\n"
     ]
    },
    {
     "data": {
      "text/plain": [
       "StandardScaler(copy=True, with_mean=True, with_std=True)"
      ]
     },
     "execution_count": 49,
     "metadata": {},
     "output_type": "execute_result"
    }
   ],
   "source": [
    "scaler.fit(df2)"
   ]
  },
  {
   "cell_type": "code",
   "execution_count": 50,
   "metadata": {
    "colab": {},
    "colab_type": "code",
    "id": "aG3UaoBL4unz"
   },
   "outputs": [
    {
     "name": "stderr",
     "output_type": "stream",
     "text": [
      "C:\\ProgramData\\Anaconda3\\lib\\site-packages\\ipykernel_launcher.py:1: DataConversionWarning: Data with input dtype int64, float64 were all converted to float64 by StandardScaler.\n",
      "  \"\"\"Entry point for launching an IPython kernel.\n"
     ]
    }
   ],
   "source": [
    "scaler_features = scaler.transform(df2)"
   ]
  },
  {
   "cell_type": "markdown",
   "metadata": {
    "colab_type": "text",
    "id": "SCtco-Ip4un0"
   },
   "source": [
    "#### Converting the scaled data into pandas dataframe"
   ]
  },
  {
   "cell_type": "code",
   "execution_count": 51,
   "metadata": {
    "colab": {},
    "colab_type": "code",
    "id": "Zkh9TCh-4un2"
   },
   "outputs": [],
   "source": [
    "scaler_df = pd.DataFrame(scaler_features)"
   ]
  },
  {
   "cell_type": "markdown",
   "metadata": {
    "colab_type": "text",
    "id": "iL2zKYex4un5"
   },
   "source": [
    "#### Joining of two pandas DataFrame "
   ]
  },
  {
   "cell_type": "code",
   "execution_count": 52,
   "metadata": {
    "colab": {
     "base_uri": "https://localhost:8080/",
     "height": 258
    },
    "colab_type": "code",
    "id": "C4B8kq0o4un7",
    "outputId": "bf1d52e3-9b50-48fd-da5f-b126f5ee0dfb"
   },
   "outputs": [
    {
     "data": {
      "text/html": [
       "<div>\n",
       "<style scoped>\n",
       "    .dataframe tbody tr th:only-of-type {\n",
       "        vertical-align: middle;\n",
       "    }\n",
       "\n",
       "    .dataframe tbody tr th {\n",
       "        vertical-align: top;\n",
       "    }\n",
       "\n",
       "    .dataframe thead th {\n",
       "        text-align: right;\n",
       "    }\n",
       "</style>\n",
       "<table border=\"1\" class=\"dataframe\">\n",
       "  <thead>\n",
       "    <tr style=\"text-align: right;\">\n",
       "      <th></th>\n",
       "      <th>Male</th>\n",
       "      <th>1</th>\n",
       "      <th>PartnerYes</th>\n",
       "      <th>Independent</th>\n",
       "      <th>PSYes</th>\n",
       "      <th>MLYes</th>\n",
       "      <th>Fiber optic</th>\n",
       "      <th>No</th>\n",
       "      <th>OSYes</th>\n",
       "      <th>OBYes</th>\n",
       "      <th>DPYes</th>\n",
       "      <th>TSYes</th>\n",
       "      <th>STVYes</th>\n",
       "      <th>SMYes</th>\n",
       "      <th>PLBYes</th>\n",
       "      <th>Credit card (automatic)</th>\n",
       "      <th>Electronic check</th>\n",
       "      <th>Mailed check</th>\n",
       "      <th>0</th>\n",
       "      <th>1</th>\n",
       "    </tr>\n",
       "  </thead>\n",
       "  <tbody>\n",
       "    <tr>\n",
       "      <th>0</th>\n",
       "      <td>0</td>\n",
       "      <td>0</td>\n",
       "      <td>1</td>\n",
       "      <td>1</td>\n",
       "      <td>0</td>\n",
       "      <td>0</td>\n",
       "      <td>0</td>\n",
       "      <td>0</td>\n",
       "      <td>0</td>\n",
       "      <td>1</td>\n",
       "      <td>0</td>\n",
       "      <td>0</td>\n",
       "      <td>0</td>\n",
       "      <td>0</td>\n",
       "      <td>1</td>\n",
       "      <td>0</td>\n",
       "      <td>1</td>\n",
       "      <td>0</td>\n",
       "      <td>-1.277445</td>\n",
       "      <td>-1.160323</td>\n",
       "    </tr>\n",
       "    <tr>\n",
       "      <th>1</th>\n",
       "      <td>1</td>\n",
       "      <td>0</td>\n",
       "      <td>0</td>\n",
       "      <td>1</td>\n",
       "      <td>1</td>\n",
       "      <td>0</td>\n",
       "      <td>0</td>\n",
       "      <td>0</td>\n",
       "      <td>1</td>\n",
       "      <td>0</td>\n",
       "      <td>1</td>\n",
       "      <td>0</td>\n",
       "      <td>0</td>\n",
       "      <td>0</td>\n",
       "      <td>0</td>\n",
       "      <td>0</td>\n",
       "      <td>0</td>\n",
       "      <td>1</td>\n",
       "      <td>0.066327</td>\n",
       "      <td>-0.259629</td>\n",
       "    </tr>\n",
       "    <tr>\n",
       "      <th>2</th>\n",
       "      <td>1</td>\n",
       "      <td>0</td>\n",
       "      <td>0</td>\n",
       "      <td>1</td>\n",
       "      <td>1</td>\n",
       "      <td>0</td>\n",
       "      <td>0</td>\n",
       "      <td>0</td>\n",
       "      <td>1</td>\n",
       "      <td>1</td>\n",
       "      <td>0</td>\n",
       "      <td>0</td>\n",
       "      <td>0</td>\n",
       "      <td>0</td>\n",
       "      <td>1</td>\n",
       "      <td>0</td>\n",
       "      <td>0</td>\n",
       "      <td>1</td>\n",
       "      <td>-1.236724</td>\n",
       "      <td>-0.362660</td>\n",
       "    </tr>\n",
       "    <tr>\n",
       "      <th>3</th>\n",
       "      <td>1</td>\n",
       "      <td>0</td>\n",
       "      <td>0</td>\n",
       "      <td>1</td>\n",
       "      <td>0</td>\n",
       "      <td>0</td>\n",
       "      <td>0</td>\n",
       "      <td>0</td>\n",
       "      <td>1</td>\n",
       "      <td>0</td>\n",
       "      <td>1</td>\n",
       "      <td>1</td>\n",
       "      <td>0</td>\n",
       "      <td>0</td>\n",
       "      <td>0</td>\n",
       "      <td>0</td>\n",
       "      <td>0</td>\n",
       "      <td>0</td>\n",
       "      <td>0.514251</td>\n",
       "      <td>-0.746535</td>\n",
       "    </tr>\n",
       "    <tr>\n",
       "      <th>4</th>\n",
       "      <td>0</td>\n",
       "      <td>0</td>\n",
       "      <td>0</td>\n",
       "      <td>1</td>\n",
       "      <td>1</td>\n",
       "      <td>0</td>\n",
       "      <td>1</td>\n",
       "      <td>0</td>\n",
       "      <td>0</td>\n",
       "      <td>0</td>\n",
       "      <td>0</td>\n",
       "      <td>0</td>\n",
       "      <td>0</td>\n",
       "      <td>0</td>\n",
       "      <td>1</td>\n",
       "      <td>0</td>\n",
       "      <td>1</td>\n",
       "      <td>0</td>\n",
       "      <td>-1.236724</td>\n",
       "      <td>0.197365</td>\n",
       "    </tr>\n",
       "  </tbody>\n",
       "</table>\n",
       "</div>"
      ],
      "text/plain": [
       "   Male  1  PartnerYes  Independent  PSYes  MLYes  Fiber optic  No  OSYes  \\\n",
       "0     0  0           1            1      0      0            0   0      0   \n",
       "1     1  0           0            1      1      0            0   0      1   \n",
       "2     1  0           0            1      1      0            0   0      1   \n",
       "3     1  0           0            1      0      0            0   0      1   \n",
       "4     0  0           0            1      1      0            1   0      0   \n",
       "\n",
       "   OBYes  DPYes  TSYes  STVYes  SMYes  PLBYes  Credit card (automatic)  \\\n",
       "0      1      0      0       0      0       1                        0   \n",
       "1      0      1      0       0      0       0                        0   \n",
       "2      1      0      0       0      0       1                        0   \n",
       "3      0      1      1       0      0       0                        0   \n",
       "4      0      0      0       0      0       1                        0   \n",
       "\n",
       "   Electronic check  Mailed check         0         1  \n",
       "0                 1             0 -1.277445 -1.160323  \n",
       "1                 0             1  0.066327 -0.259629  \n",
       "2                 0             1 -1.236724 -0.362660  \n",
       "3                 0             0  0.514251 -0.746535  \n",
       "4                 1             0 -1.236724  0.197365  "
      ]
     },
     "execution_count": 52,
     "metadata": {},
     "output_type": "execute_result"
    }
   ],
   "source": [
    "X = pd.concat([df,scaler_df],axis=1)\n",
    "X.head()"
   ]
  },
  {
   "cell_type": "code",
   "execution_count": 53,
   "metadata": {
    "colab": {
     "base_uri": "https://localhost:8080/",
     "height": 272
    },
    "colab_type": "code",
    "id": "sH1w3eFq_iWV",
    "outputId": "58b80da0-cd37-4d69-8221-431a43a1a5b4"
   },
   "outputs": [
    {
     "data": {
      "text/plain": [
       "Index([                   'Male',                         1,\n",
       "                    'PartnerYes',             'Independent',\n",
       "                         'PSYes',                   'MLYes',\n",
       "                   'Fiber optic',                      'No',\n",
       "                         'OSYes',                   'OBYes',\n",
       "                         'DPYes',                   'TSYes',\n",
       "                        'STVYes',                   'SMYes',\n",
       "                        'PLBYes', 'Credit card (automatic)',\n",
       "              'Electronic check',            'Mailed check',\n",
       "                               0,                         1],\n",
       "      dtype='object')"
      ]
     },
     "execution_count": 53,
     "metadata": {},
     "output_type": "execute_result"
    }
   ],
   "source": [
    "X.columns"
   ]
  },
  {
   "cell_type": "markdown",
   "metadata": {
    "colab_type": "text",
    "id": "T82T8UkZ4un-"
   },
   "source": [
    "#### Taking dummy value for target column"
   ]
  },
  {
   "cell_type": "code",
   "execution_count": 54,
   "metadata": {
    "colab": {
     "base_uri": "https://localhost:8080/",
     "height": 204
    },
    "colab_type": "code",
    "id": "WUoh5Gzv4un_",
    "outputId": "0f25c31d-1a49-4202-95b7-a059b7958544"
   },
   "outputs": [
    {
     "data": {
      "text/html": [
       "<div>\n",
       "<style scoped>\n",
       "    .dataframe tbody tr th:only-of-type {\n",
       "        vertical-align: middle;\n",
       "    }\n",
       "\n",
       "    .dataframe tbody tr th {\n",
       "        vertical-align: top;\n",
       "    }\n",
       "\n",
       "    .dataframe thead th {\n",
       "        text-align: right;\n",
       "    }\n",
       "</style>\n",
       "<table border=\"1\" class=\"dataframe\">\n",
       "  <thead>\n",
       "    <tr style=\"text-align: right;\">\n",
       "      <th></th>\n",
       "      <th>Yes</th>\n",
       "    </tr>\n",
       "  </thead>\n",
       "  <tbody>\n",
       "    <tr>\n",
       "      <th>0</th>\n",
       "      <td>0</td>\n",
       "    </tr>\n",
       "    <tr>\n",
       "      <th>1</th>\n",
       "      <td>0</td>\n",
       "    </tr>\n",
       "    <tr>\n",
       "      <th>2</th>\n",
       "      <td>1</td>\n",
       "    </tr>\n",
       "    <tr>\n",
       "      <th>3</th>\n",
       "      <td>0</td>\n",
       "    </tr>\n",
       "    <tr>\n",
       "      <th>4</th>\n",
       "      <td>1</td>\n",
       "    </tr>\n",
       "  </tbody>\n",
       "</table>\n",
       "</div>"
      ],
      "text/plain": [
       "   Yes\n",
       "0    0\n",
       "1    0\n",
       "2    1\n",
       "3    0\n",
       "4    1"
      ]
     },
     "execution_count": 54,
     "metadata": {},
     "output_type": "execute_result"
    }
   ],
   "source": [
    "Y = pd.get_dummies(y,drop_first=True)\n",
    "Y.head()"
   ]
  },
  {
   "cell_type": "markdown",
   "metadata": {
    "colab_type": "text",
    "id": "bXmiHoUe4uoC"
   },
   "source": [
    "#### Spliting of Training and testing dataset"
   ]
  },
  {
   "cell_type": "code",
   "execution_count": 55,
   "metadata": {
    "colab": {},
    "colab_type": "code",
    "id": "w7Re3pF_4uoC"
   },
   "outputs": [],
   "source": [
    "from sklearn.model_selection import train_test_split"
   ]
  },
  {
   "cell_type": "code",
   "execution_count": 56,
   "metadata": {
    "colab": {},
    "colab_type": "code",
    "id": "OvQIeLfF4uoE"
   },
   "outputs": [],
   "source": [
    "X_train, X_test, y_train, y_test = train_test_split(X, Y, test_size=0.3, random_state=42)"
   ]
  },
  {
   "cell_type": "markdown",
   "metadata": {
    "colab_type": "text",
    "id": "tGxPeDNX4uoG"
   },
   "source": [
    "### Training of the model with the help of CART(Gini Index) Algorithm"
   ]
  },
  {
   "cell_type": "code",
   "execution_count": 57,
   "metadata": {
    "colab": {},
    "colab_type": "code",
    "id": "SdExCwbI4uoH"
   },
   "outputs": [],
   "source": [
    "from sklearn.tree import DecisionTreeClassifier"
   ]
  },
  {
   "cell_type": "code",
   "execution_count": 58,
   "metadata": {
    "colab": {},
    "colab_type": "code",
    "id": "47BDAGwm4uoI"
   },
   "outputs": [],
   "source": [
    "dtree = DecisionTreeClassifier()"
   ]
  },
  {
   "cell_type": "code",
   "execution_count": 59,
   "metadata": {
    "colab": {
     "base_uri": "https://localhost:8080/",
     "height": 119
    },
    "colab_type": "code",
    "id": "No0TTpap4uoK",
    "outputId": "c8e7b1b8-8ba2-4012-dceb-59ee73c82dec"
   },
   "outputs": [
    {
     "data": {
      "text/plain": [
       "DecisionTreeClassifier(class_weight=None, criterion='gini', max_depth=None,\n",
       "            max_features=None, max_leaf_nodes=None,\n",
       "            min_impurity_decrease=0.0, min_impurity_split=None,\n",
       "            min_samples_leaf=1, min_samples_split=2,\n",
       "            min_weight_fraction_leaf=0.0, presort=False, random_state=None,\n",
       "            splitter='best')"
      ]
     },
     "execution_count": 59,
     "metadata": {},
     "output_type": "execute_result"
    }
   ],
   "source": [
    "dtree.fit(X_train,y_train)"
   ]
  },
  {
   "cell_type": "markdown",
   "metadata": {
    "colab_type": "text",
    "id": "2pezOwEV4uoL"
   },
   "source": [
    "#### Predictions"
   ]
  },
  {
   "cell_type": "code",
   "execution_count": 60,
   "metadata": {
    "colab": {},
    "colab_type": "code",
    "id": "zezw2Kp44uoM"
   },
   "outputs": [],
   "source": [
    "predictions = dtree.predict(X_test)"
   ]
  },
  {
   "cell_type": "code",
   "execution_count": 61,
   "metadata": {
    "colab": {},
    "colab_type": "code",
    "id": "M4r1ZMMz4uoO"
   },
   "outputs": [],
   "source": [
    "from sklearn.metrics import classification_report,confusion_matrix,accuracy_score"
   ]
  },
  {
   "cell_type": "code",
   "execution_count": 62,
   "metadata": {
    "colab": {
     "base_uri": "https://localhost:8080/",
     "height": 204
    },
    "colab_type": "code",
    "id": "lJ8R0pie4uoQ",
    "outputId": "42e81a93-798c-4917-f345-fe994aa662e8"
   },
   "outputs": [
    {
     "name": "stdout",
     "output_type": "stream",
     "text": [
      "Classification Report:\n",
      "\n",
      "               precision    recall  f1-score   support\n",
      "\n",
      "           0       0.82      0.81      0.81      1539\n",
      "           1       0.51      0.52      0.51       574\n",
      "\n",
      "   micro avg       0.73      0.73      0.73      2113\n",
      "   macro avg       0.66      0.67      0.66      2113\n",
      "weighted avg       0.73      0.73      0.73      2113\n",
      "\n"
     ]
    }
   ],
   "source": [
    "cla_CART = classification_report(y_test,predictions)\n",
    "print(\"Classification Report:\\n\\n\",cla_CART)"
   ]
  },
  {
   "cell_type": "code",
   "execution_count": 63,
   "metadata": {
    "colab": {
     "base_uri": "https://localhost:8080/",
     "height": 85
    },
    "colab_type": "code",
    "id": "td8-Z4Dk4uoR",
    "outputId": "df2955e7-4c03-4c1a-a873-c4b49920e37c"
   },
   "outputs": [
    {
     "name": "stdout",
     "output_type": "stream",
     "text": [
      "Confusion matrix:\n",
      "\n",
      " [[1245  294]\n",
      " [ 273  301]]\n"
     ]
    }
   ],
   "source": [
    "con_CART = confusion_matrix(y_test,predictions)\n",
    "print(\"Confusion matrix:\\n\\n\",con_CART)"
   ]
  },
  {
   "cell_type": "code",
   "execution_count": 64,
   "metadata": {
    "colab": {
     "base_uri": "https://localhost:8080/",
     "height": 34
    },
    "colab_type": "code",
    "id": "CKmdsmWz4uoT",
    "outputId": "eb471a51-a352-4f4c-b441-8c5c11889027"
   },
   "outputs": [
    {
     "name": "stdout",
     "output_type": "stream",
     "text": [
      "Accuracy: 73.16611452910554 %\n"
     ]
    }
   ],
   "source": [
    "acc_CART = accuracy_score(y_test,predictions)*100\n",
    "print(\"Accuracy:\",acc_CART,\"%\")"
   ]
  },
  {
   "cell_type": "markdown",
   "metadata": {
    "colab_type": "text",
    "id": "znCF5vQv4uoU"
   },
   "source": [
    "### Training of the model with the help of ID3(Entropy) Algorithm"
   ]
  },
  {
   "cell_type": "code",
   "execution_count": 65,
   "metadata": {
    "colab": {},
    "colab_type": "code",
    "id": "sr3_Fhu34uoV"
   },
   "outputs": [],
   "source": [
    "dtree = DecisionTreeClassifier(criterion='entropy',max_depth=4)"
   ]
  },
  {
   "cell_type": "code",
   "execution_count": 66,
   "metadata": {
    "colab": {
     "base_uri": "https://localhost:8080/",
     "height": 119
    },
    "colab_type": "code",
    "id": "Pbrg8hde4uoW",
    "outputId": "c274dcb0-9852-483d-c659-02f9061a77e4"
   },
   "outputs": [
    {
     "data": {
      "text/plain": [
       "DecisionTreeClassifier(class_weight=None, criterion='entropy', max_depth=4,\n",
       "            max_features=None, max_leaf_nodes=None,\n",
       "            min_impurity_decrease=0.0, min_impurity_split=None,\n",
       "            min_samples_leaf=1, min_samples_split=2,\n",
       "            min_weight_fraction_leaf=0.0, presort=False, random_state=None,\n",
       "            splitter='best')"
      ]
     },
     "execution_count": 66,
     "metadata": {},
     "output_type": "execute_result"
    }
   ],
   "source": [
    "dtree.fit(X_train,y_train)"
   ]
  },
  {
   "cell_type": "markdown",
   "metadata": {
    "colab_type": "text",
    "id": "ZRIDdItE4uoZ"
   },
   "source": [
    "#### Prediction for ID3"
   ]
  },
  {
   "cell_type": "code",
   "execution_count": 67,
   "metadata": {
    "colab": {},
    "colab_type": "code",
    "id": "8xaEMIW-4uoZ"
   },
   "outputs": [],
   "source": [
    "predictions = dtree.predict(X_test)"
   ]
  },
  {
   "cell_type": "code",
   "execution_count": 68,
   "metadata": {
    "colab": {
     "base_uri": "https://localhost:8080/",
     "height": 204
    },
    "colab_type": "code",
    "id": "QTz4pSy54uob",
    "outputId": "62b6e01c-8bb0-4020-8ad7-9415500a1469"
   },
   "outputs": [
    {
     "name": "stdout",
     "output_type": "stream",
     "text": [
      "Classification Report:\n",
      "\n",
      "               precision    recall  f1-score   support\n",
      "\n",
      "           0       0.81      0.93      0.87      1539\n",
      "           1       0.70      0.41      0.51       574\n",
      "\n",
      "   micro avg       0.79      0.79      0.79      2113\n",
      "   macro avg       0.75      0.67      0.69      2113\n",
      "weighted avg       0.78      0.79      0.77      2113\n",
      "\n"
     ]
    }
   ],
   "source": [
    "cla_ID3 = classification_report(y_test,predictions)\n",
    "print(\"Classification Report:\\n\\n\",cla_ID3)"
   ]
  },
  {
   "cell_type": "code",
   "execution_count": 69,
   "metadata": {
    "colab": {
     "base_uri": "https://localhost:8080/",
     "height": 85
    },
    "colab_type": "code",
    "id": "K1pj3yKz4uoc",
    "outputId": "7c2c30af-69de-4079-ed53-0a139694fcc0"
   },
   "outputs": [
    {
     "name": "stdout",
     "output_type": "stream",
     "text": [
      "Confusion matrix:\n",
      "\n",
      " [[1437  102]\n",
      " [ 340  234]]\n"
     ]
    }
   ],
   "source": [
    "con_ID3 = confusion_matrix(y_test,predictions)\n",
    "print(\"Confusion matrix:\\n\\n\",con_ID3)"
   ]
  },
  {
   "cell_type": "code",
   "execution_count": 70,
   "metadata": {
    "colab": {
     "base_uri": "https://localhost:8080/",
     "height": 34
    },
    "colab_type": "code",
    "id": "crbSmlJp4uoe",
    "outputId": "014091fe-cd95-4303-9d79-d13bb66f2409"
   },
   "outputs": [
    {
     "name": "stdout",
     "output_type": "stream",
     "text": [
      "Accuracy: 79.08187411263606 %\n"
     ]
    }
   ],
   "source": [
    "acc_ID3 = accuracy_score(y_test,predictions)*100\n",
    "print(\"Accuracy:\",acc_ID3,\"%\")"
   ]
  },
  {
   "cell_type": "code",
   "execution_count": 0,
   "metadata": {
    "colab": {},
    "colab_type": "code",
    "id": "cb6nYUY--xae"
   },
   "outputs": [],
   "source": [
    "from sklearn.tree import export_graphviz\n",
    "from sklearn.externals.six import StringIO\n",
    "from IPython.display import Image  \n",
    "import pydotplus"
   ]
  },
  {
   "cell_type": "code",
   "execution_count": 82,
   "metadata": {
    "colab": {
     "base_uri": "https://localhost:8080/",
     "height": 773
    },
    "colab_type": "code",
    "id": "Wauz265l_ETz",
    "outputId": "2dc51aa4-ed69-4a6d-bc6e-c53c95a2c326"
   },
   "outputs": [
    {
     "data": {
      "image/png": "[encoded data removed]",
      "text/plain": [
       "<IPython.core.display.Image object>"
      ]
     },
     "execution_count": 82,
     "metadata": {
      "tags": []
     },
     "output_type": "execute_result"
    }
   ],
   "source": [
    "dot_data = StringIO()\n",
    "export_graphviz(dtree, out_file=dot_data,  \n",
    "                filled=True, rounded=True,\n",
    "                special_characters=True,feature_names = X.columns,class_names=['0','1'])\n",
    "graph = pydotplus.graph_from_dot_data(dot_data.getvalue())  \n",
    "graph.write_png('tree.png')\n",
    "Image(graph.create_png())"
   ]
  }
 ],
 "metadata": {
  "colab": {
   "include_colab_link": true,
   "name": "Decision_Tree_03.ipynb",
   "provenance": []
  },
  "kernelspec": {
   "display_name": "Python 3",
   "language": "python",
   "name": "python3"
  },
  "language_info": {
   "codemirror_mode": {
    "name": "ipython",
    "version": 3
   },
   "file_extension": ".py",
   "mimetype": "text/x-python",
   "name": "python",
   "nbconvert_exporter": "python",
   "pygments_lexer": "ipython3",
   "version": "3.7.3"
  }
 },
 "nbformat": 4,
 "nbformat_minor": 1
}
