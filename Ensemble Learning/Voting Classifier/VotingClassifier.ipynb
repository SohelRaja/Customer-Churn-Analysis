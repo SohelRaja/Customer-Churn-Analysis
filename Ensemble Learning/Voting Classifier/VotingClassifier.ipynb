{
  "nbformat": 4,
  "nbformat_minor": 0,
  "metadata": {
    "colab": {
      "name": "VotingClassifier.ipynb",
      "provenance": [],
      "collapsed_sections": [],
      "include_colab_link": true
    },
    "kernelspec": {
      "name": "python3",
      "display_name": "Python 3"
    }
  },
  "cells": [
    {
      "cell_type": "markdown",
      "metadata": {
        "id": "view-in-github",
        "colab_type": "text"
      },
      "source": [
        "<a href=\"https://colab.research.google.com/github/disha2sinha/Customer-Churn-Analysis/blob/master/Ensemble%20Learning/Voting%20Classifier/VotingClassifier.ipynb\" target=\"_parent\"><img src=\"https://colab.research.google.com/assets/colab-badge.svg\" alt=\"Open In Colab\"/></a>"
      ]
    },
    {
      "cell_type": "code",
      "metadata": {
        "id": "AJ0bXgSWY0sT",
        "colab_type": "code",
        "colab": {}
      },
      "source": [
        "import numpy as np\n",
        "import pandas as pd \n",
        "import seaborn as sns\n",
        "import matplotlib.pyplot as plt\n",
        "%matplotlib inline"
      ],
      "execution_count": 0,
      "outputs": []
    },
    {
      "cell_type": "code",
      "metadata": {
        "id": "Vw3pJ6GGZFXv",
        "colab_type": "code",
        "outputId": "04ad7bed-e112-4c5d-ddcd-5bb81974f900",
        "colab": {
          "base_uri": "https://localhost:8080/",
          "height": 295
        }
      },
      "source": [
        "url = 'https://raw.githubusercontent.com/SohelRaja/ML_repo_college/master/Decision%20Tree%20with%20Python/WA_Fn-UseC_-Telco-Customer-Churn.csv'\n",
        "telco = pd.read_csv(url)\n",
        "telco=telco.drop(['customerID','TotalCharges'] , axis=1)\n",
        "telco.head()"
      ],
      "execution_count": 2,
      "outputs": [
        {
          "output_type": "execute_result",
          "data": {
            "text/html": [
              "<div>\n",
              "<style scoped>\n",
              "    .dataframe tbody tr th:only-of-type {\n",
              "        vertical-align: middle;\n",
              "    }\n",
              "\n",
              "    .dataframe tbody tr th {\n",
              "        vertical-align: top;\n",
              "    }\n",
              "\n",
              "    .dataframe thead th {\n",
              "        text-align: right;\n",
              "    }\n",
              "</style>\n",
              "<table border=\"1\" class=\"dataframe\">\n",
              "  <thead>\n",
              "    <tr style=\"text-align: right;\">\n",
              "      <th></th>\n",
              "      <th>gender</th>\n",
              "      <th>SeniorCitizen</th>\n",
              "      <th>Partner</th>\n",
              "      <th>Dependents</th>\n",
              "      <th>tenure</th>\n",
              "      <th>PhoneService</th>\n",
              "      <th>MultipleLines</th>\n",
              "      <th>InternetService</th>\n",
              "      <th>OnlineSecurity</th>\n",
              "      <th>OnlineBackup</th>\n",
              "      <th>DeviceProtection</th>\n",
              "      <th>TechSupport</th>\n",
              "      <th>StreamingTV</th>\n",
              "      <th>StreamingMovies</th>\n",
              "      <th>Contract</th>\n",
              "      <th>PaperlessBilling</th>\n",
              "      <th>PaymentMethod</th>\n",
              "      <th>MonthlyCharges</th>\n",
              "      <th>Churn</th>\n",
              "    </tr>\n",
              "  </thead>\n",
              "  <tbody>\n",
              "    <tr>\n",
              "      <th>0</th>\n",
              "      <td>Female</td>\n",
              "      <td>0</td>\n",
              "      <td>Yes</td>\n",
              "      <td>No</td>\n",
              "      <td>1</td>\n",
              "      <td>No</td>\n",
              "      <td>No phone service</td>\n",
              "      <td>DSL</td>\n",
              "      <td>No</td>\n",
              "      <td>Yes</td>\n",
              "      <td>No</td>\n",
              "      <td>No</td>\n",
              "      <td>No</td>\n",
              "      <td>No</td>\n",
              "      <td>Month-to-month</td>\n",
              "      <td>Yes</td>\n",
              "      <td>Electronic check</td>\n",
              "      <td>29.85</td>\n",
              "      <td>No</td>\n",
              "    </tr>\n",
              "    <tr>\n",
              "      <th>1</th>\n",
              "      <td>Male</td>\n",
              "      <td>0</td>\n",
              "      <td>No</td>\n",
              "      <td>No</td>\n",
              "      <td>34</td>\n",
              "      <td>Yes</td>\n",
              "      <td>No</td>\n",
              "      <td>DSL</td>\n",
              "      <td>Yes</td>\n",
              "      <td>No</td>\n",
              "      <td>Yes</td>\n",
              "      <td>No</td>\n",
              "      <td>No</td>\n",
              "      <td>No</td>\n",
              "      <td>One year</td>\n",
              "      <td>No</td>\n",
              "      <td>Mailed check</td>\n",
              "      <td>56.95</td>\n",
              "      <td>No</td>\n",
              "    </tr>\n",
              "    <tr>\n",
              "      <th>2</th>\n",
              "      <td>Male</td>\n",
              "      <td>0</td>\n",
              "      <td>No</td>\n",
              "      <td>No</td>\n",
              "      <td>2</td>\n",
              "      <td>Yes</td>\n",
              "      <td>No</td>\n",
              "      <td>DSL</td>\n",
              "      <td>Yes</td>\n",
              "      <td>Yes</td>\n",
              "      <td>No</td>\n",
              "      <td>No</td>\n",
              "      <td>No</td>\n",
              "      <td>No</td>\n",
              "      <td>Month-to-month</td>\n",
              "      <td>Yes</td>\n",
              "      <td>Mailed check</td>\n",
              "      <td>53.85</td>\n",
              "      <td>Yes</td>\n",
              "    </tr>\n",
              "    <tr>\n",
              "      <th>3</th>\n",
              "      <td>Male</td>\n",
              "      <td>0</td>\n",
              "      <td>No</td>\n",
              "      <td>No</td>\n",
              "      <td>45</td>\n",
              "      <td>No</td>\n",
              "      <td>No phone service</td>\n",
              "      <td>DSL</td>\n",
              "      <td>Yes</td>\n",
              "      <td>No</td>\n",
              "      <td>Yes</td>\n",
              "      <td>Yes</td>\n",
              "      <td>No</td>\n",
              "      <td>No</td>\n",
              "      <td>One year</td>\n",
              "      <td>No</td>\n",
              "      <td>Bank transfer (automatic)</td>\n",
              "      <td>42.30</td>\n",
              "      <td>No</td>\n",
              "    </tr>\n",
              "    <tr>\n",
              "      <th>4</th>\n",
              "      <td>Female</td>\n",
              "      <td>0</td>\n",
              "      <td>No</td>\n",
              "      <td>No</td>\n",
              "      <td>2</td>\n",
              "      <td>Yes</td>\n",
              "      <td>No</td>\n",
              "      <td>Fiber optic</td>\n",
              "      <td>No</td>\n",
              "      <td>No</td>\n",
              "      <td>No</td>\n",
              "      <td>No</td>\n",
              "      <td>No</td>\n",
              "      <td>No</td>\n",
              "      <td>Month-to-month</td>\n",
              "      <td>Yes</td>\n",
              "      <td>Electronic check</td>\n",
              "      <td>70.70</td>\n",
              "      <td>Yes</td>\n",
              "    </tr>\n",
              "  </tbody>\n",
              "</table>\n",
              "</div>"
            ],
            "text/plain": [
              "   gender  SeniorCitizen  ... MonthlyCharges Churn\n",
              "0  Female              0  ...          29.85    No\n",
              "1    Male              0  ...          56.95    No\n",
              "2    Male              0  ...          53.85   Yes\n",
              "3    Male              0  ...          42.30    No\n",
              "4  Female              0  ...          70.70   Yes\n",
              "\n",
              "[5 rows x 19 columns]"
            ]
          },
          "metadata": {
            "tags": []
          },
          "execution_count": 2
        }
      ]
    },
    {
      "cell_type": "code",
      "metadata": {
        "id": "kDP5PzpEZItE",
        "colab_type": "code",
        "outputId": "e6acee68-489a-424f-ceae-44de4360f876",
        "colab": {
          "base_uri": "https://localhost:8080/",
          "height": 295
        }
      },
      "source": [
        "telco['Partner'].replace(to_replace=[['No'],['Yes']],value=['PartnerNo','PartnerYes'],inplace=True)\n",
        "telco['Dependents'].replace(to_replace=[['No'],['Yes']],value=['Independent','Dependent'],inplace=True)\n",
        "telco['PhoneService'].replace(to_replace=[['No'],['Yes']],value=['PSNo','PSYes'],inplace=True)\n",
        "telco['PaperlessBilling'].replace(to_replace=[['No'],['Yes']],value=['PLBNo','PLBYes'],inplace=True)\n",
        "telco['MultipleLines'].replace(to_replace=[['No phone service'],['No'],['Yes']],value=['MLNo','MLNo','MLYes'],inplace=True)\n",
        "telco['OnlineSecurity'].replace(to_replace=[['No internet service'],['No'],['Yes']],value=['OSNo','OSNo','OSYes'],inplace=True)\n",
        "telco['OnlineBackup'].replace(to_replace=[['No internet service'],['No'],['Yes']],value=['OBNo','OBNo','OBYes'],inplace=True)\n",
        "telco['DeviceProtection'].replace(to_replace=[['No internet service'],['No'],['Yes']],value=['DPNo','DPNo','DPYes'],inplace=True)\n",
        "telco['TechSupport'].replace(to_replace=[['No internet service'],['No'],['Yes']],value=['TSNo','TSNo','TSYes'],inplace=True)\n",
        "telco['StreamingTV'].replace(to_replace=[['No internet service'],['No'],['Yes']],value=['STVNo','STVNo','STVYes'],inplace=True)\n",
        "telco['StreamingMovies'].replace(to_replace=[['No internet service'],['No'],['Yes']],value=['SMNo','SMNo','SMYes'],inplace=True)\n",
        "telco.head()"
      ],
      "execution_count": 3,
      "outputs": [
        {
          "output_type": "execute_result",
          "data": {
            "text/html": [
              "<div>\n",
              "<style scoped>\n",
              "    .dataframe tbody tr th:only-of-type {\n",
              "        vertical-align: middle;\n",
              "    }\n",
              "\n",
              "    .dataframe tbody tr th {\n",
              "        vertical-align: top;\n",
              "    }\n",
              "\n",
              "    .dataframe thead th {\n",
              "        text-align: right;\n",
              "    }\n",
              "</style>\n",
              "<table border=\"1\" class=\"dataframe\">\n",
              "  <thead>\n",
              "    <tr style=\"text-align: right;\">\n",
              "      <th></th>\n",
              "      <th>gender</th>\n",
              "      <th>SeniorCitizen</th>\n",
              "      <th>Partner</th>\n",
              "      <th>Dependents</th>\n",
              "      <th>tenure</th>\n",
              "      <th>PhoneService</th>\n",
              "      <th>MultipleLines</th>\n",
              "      <th>InternetService</th>\n",
              "      <th>OnlineSecurity</th>\n",
              "      <th>OnlineBackup</th>\n",
              "      <th>DeviceProtection</th>\n",
              "      <th>TechSupport</th>\n",
              "      <th>StreamingTV</th>\n",
              "      <th>StreamingMovies</th>\n",
              "      <th>Contract</th>\n",
              "      <th>PaperlessBilling</th>\n",
              "      <th>PaymentMethod</th>\n",
              "      <th>MonthlyCharges</th>\n",
              "      <th>Churn</th>\n",
              "    </tr>\n",
              "  </thead>\n",
              "  <tbody>\n",
              "    <tr>\n",
              "      <th>0</th>\n",
              "      <td>Female</td>\n",
              "      <td>0</td>\n",
              "      <td>PartnerYes</td>\n",
              "      <td>Independent</td>\n",
              "      <td>1</td>\n",
              "      <td>PSNo</td>\n",
              "      <td>MLNo</td>\n",
              "      <td>DSL</td>\n",
              "      <td>OSNo</td>\n",
              "      <td>OBYes</td>\n",
              "      <td>DPNo</td>\n",
              "      <td>TSNo</td>\n",
              "      <td>STVNo</td>\n",
              "      <td>SMNo</td>\n",
              "      <td>Month-to-month</td>\n",
              "      <td>PLBYes</td>\n",
              "      <td>Electronic check</td>\n",
              "      <td>29.85</td>\n",
              "      <td>No</td>\n",
              "    </tr>\n",
              "    <tr>\n",
              "      <th>1</th>\n",
              "      <td>Male</td>\n",
              "      <td>0</td>\n",
              "      <td>PartnerNo</td>\n",
              "      <td>Independent</td>\n",
              "      <td>34</td>\n",
              "      <td>PSYes</td>\n",
              "      <td>MLNo</td>\n",
              "      <td>DSL</td>\n",
              "      <td>OSYes</td>\n",
              "      <td>OBNo</td>\n",
              "      <td>DPYes</td>\n",
              "      <td>TSNo</td>\n",
              "      <td>STVNo</td>\n",
              "      <td>SMNo</td>\n",
              "      <td>One year</td>\n",
              "      <td>PLBNo</td>\n",
              "      <td>Mailed check</td>\n",
              "      <td>56.95</td>\n",
              "      <td>No</td>\n",
              "    </tr>\n",
              "    <tr>\n",
              "      <th>2</th>\n",
              "      <td>Male</td>\n",
              "      <td>0</td>\n",
              "      <td>PartnerNo</td>\n",
              "      <td>Independent</td>\n",
              "      <td>2</td>\n",
              "      <td>PSYes</td>\n",
              "      <td>MLNo</td>\n",
              "      <td>DSL</td>\n",
              "      <td>OSYes</td>\n",
              "      <td>OBYes</td>\n",
              "      <td>DPNo</td>\n",
              "      <td>TSNo</td>\n",
              "      <td>STVNo</td>\n",
              "      <td>SMNo</td>\n",
              "      <td>Month-to-month</td>\n",
              "      <td>PLBYes</td>\n",
              "      <td>Mailed check</td>\n",
              "      <td>53.85</td>\n",
              "      <td>Yes</td>\n",
              "    </tr>\n",
              "    <tr>\n",
              "      <th>3</th>\n",
              "      <td>Male</td>\n",
              "      <td>0</td>\n",
              "      <td>PartnerNo</td>\n",
              "      <td>Independent</td>\n",
              "      <td>45</td>\n",
              "      <td>PSNo</td>\n",
              "      <td>MLNo</td>\n",
              "      <td>DSL</td>\n",
              "      <td>OSYes</td>\n",
              "      <td>OBNo</td>\n",
              "      <td>DPYes</td>\n",
              "      <td>TSYes</td>\n",
              "      <td>STVNo</td>\n",
              "      <td>SMNo</td>\n",
              "      <td>One year</td>\n",
              "      <td>PLBNo</td>\n",
              "      <td>Bank transfer (automatic)</td>\n",
              "      <td>42.30</td>\n",
              "      <td>No</td>\n",
              "    </tr>\n",
              "    <tr>\n",
              "      <th>4</th>\n",
              "      <td>Female</td>\n",
              "      <td>0</td>\n",
              "      <td>PartnerNo</td>\n",
              "      <td>Independent</td>\n",
              "      <td>2</td>\n",
              "      <td>PSYes</td>\n",
              "      <td>MLNo</td>\n",
              "      <td>Fiber optic</td>\n",
              "      <td>OSNo</td>\n",
              "      <td>OBNo</td>\n",
              "      <td>DPNo</td>\n",
              "      <td>TSNo</td>\n",
              "      <td>STVNo</td>\n",
              "      <td>SMNo</td>\n",
              "      <td>Month-to-month</td>\n",
              "      <td>PLBYes</td>\n",
              "      <td>Electronic check</td>\n",
              "      <td>70.70</td>\n",
              "      <td>Yes</td>\n",
              "    </tr>\n",
              "  </tbody>\n",
              "</table>\n",
              "</div>"
            ],
            "text/plain": [
              "   gender  SeniorCitizen  ... MonthlyCharges Churn\n",
              "0  Female              0  ...          29.85    No\n",
              "1    Male              0  ...          56.95    No\n",
              "2    Male              0  ...          53.85   Yes\n",
              "3    Male              0  ...          42.30    No\n",
              "4  Female              0  ...          70.70   Yes\n",
              "\n",
              "[5 rows x 19 columns]"
            ]
          },
          "metadata": {
            "tags": []
          },
          "execution_count": 3
        }
      ]
    },
    {
      "cell_type": "code",
      "metadata": {
        "id": "Y5PCFpuxZN4H",
        "colab_type": "code",
        "outputId": "70c70c38-e8fa-4846-e547-cb4d0373513a",
        "colab": {
          "base_uri": "https://localhost:8080/",
          "height": 226
        }
      },
      "source": [
        "telco['gender'].replace(to_replace=[['Female'],['Male']],value=[0,1],inplace=True)\n",
        "telco['Partner'].replace(to_replace=[['PartnerNo'],['PartnerYes']],value=[0,1],inplace=True)\n",
        "telco['Dependents'].replace(to_replace=[['Independent'],['Dependent']],value=[0,1],inplace=True)\n",
        "telco['PhoneService'].replace(to_replace=[['PSNo'],['PSYes']],value=[0,1],inplace=True)\n",
        "telco['PaperlessBilling'].replace(to_replace=[['PLBNo'],['PLBYes']],value=[0,1],inplace=True)\n",
        "telco['MultipleLines'].replace(to_replace=[['MLNo'],['MLYes']],value=[0,1],inplace=True)\n",
        "telco['OnlineSecurity'].replace(to_replace=[['OSNo'],['OSYes']],value=[0,1],inplace=True)\n",
        "telco['OnlineBackup'].replace(to_replace=[['OBNo'],['OBYes']],value=[0,1],inplace=True)\n",
        "telco['DeviceProtection'].replace(to_replace=[['DPNo'],['DPYes']],value=[0,1],inplace=True)\n",
        "telco['TechSupport'].replace(to_replace=[['TSNo'],['TSYes']],value=[0,1],inplace=True)\n",
        "telco['StreamingTV'].replace(to_replace=[['STVNo'],['STVYes']],value=[0,1],inplace=True)\n",
        "telco['StreamingMovies'].replace(to_replace=[['SMNo'],['SMYes']],value=[0,1],inplace=True)\n",
        "telco['InternetService'].replace(to_replace=[['DSL'],['Fiber optic'],['No']],value=[0,1,2],inplace=True)\n",
        "telco['PaymentMethod'].replace(to_replace=[['Electronic check'],['Mailed check'],['Bank transfer (automatic)'],['Credit card (automatic)']],value=[0,1,2,3],inplace=True)\n",
        "telco['Contract'].replace(to_replace=[['Month-to-month'], ['One year'], ['Two year']],value=[0,1,2],inplace=True)\n",
        "telco['Churn'].replace(to_replace=[['No'], ['Yes']],value=[0,1],inplace=True)\n",
        "telco.head()"
      ],
      "execution_count": 4,
      "outputs": [
        {
          "output_type": "execute_result",
          "data": {
            "text/html": [
              "<div>\n",
              "<style scoped>\n",
              "    .dataframe tbody tr th:only-of-type {\n",
              "        vertical-align: middle;\n",
              "    }\n",
              "\n",
              "    .dataframe tbody tr th {\n",
              "        vertical-align: top;\n",
              "    }\n",
              "\n",
              "    .dataframe thead th {\n",
              "        text-align: right;\n",
              "    }\n",
              "</style>\n",
              "<table border=\"1\" class=\"dataframe\">\n",
              "  <thead>\n",
              "    <tr style=\"text-align: right;\">\n",
              "      <th></th>\n",
              "      <th>gender</th>\n",
              "      <th>SeniorCitizen</th>\n",
              "      <th>Partner</th>\n",
              "      <th>Dependents</th>\n",
              "      <th>tenure</th>\n",
              "      <th>PhoneService</th>\n",
              "      <th>MultipleLines</th>\n",
              "      <th>InternetService</th>\n",
              "      <th>OnlineSecurity</th>\n",
              "      <th>OnlineBackup</th>\n",
              "      <th>DeviceProtection</th>\n",
              "      <th>TechSupport</th>\n",
              "      <th>StreamingTV</th>\n",
              "      <th>StreamingMovies</th>\n",
              "      <th>Contract</th>\n",
              "      <th>PaperlessBilling</th>\n",
              "      <th>PaymentMethod</th>\n",
              "      <th>MonthlyCharges</th>\n",
              "      <th>Churn</th>\n",
              "    </tr>\n",
              "  </thead>\n",
              "  <tbody>\n",
              "    <tr>\n",
              "      <th>0</th>\n",
              "      <td>0</td>\n",
              "      <td>0</td>\n",
              "      <td>1</td>\n",
              "      <td>0</td>\n",
              "      <td>1</td>\n",
              "      <td>0</td>\n",
              "      <td>0</td>\n",
              "      <td>0</td>\n",
              "      <td>0</td>\n",
              "      <td>1</td>\n",
              "      <td>0</td>\n",
              "      <td>0</td>\n",
              "      <td>0</td>\n",
              "      <td>0</td>\n",
              "      <td>0</td>\n",
              "      <td>1</td>\n",
              "      <td>0</td>\n",
              "      <td>29.85</td>\n",
              "      <td>0</td>\n",
              "    </tr>\n",
              "    <tr>\n",
              "      <th>1</th>\n",
              "      <td>1</td>\n",
              "      <td>0</td>\n",
              "      <td>0</td>\n",
              "      <td>0</td>\n",
              "      <td>34</td>\n",
              "      <td>1</td>\n",
              "      <td>0</td>\n",
              "      <td>0</td>\n",
              "      <td>1</td>\n",
              "      <td>0</td>\n",
              "      <td>1</td>\n",
              "      <td>0</td>\n",
              "      <td>0</td>\n",
              "      <td>0</td>\n",
              "      <td>1</td>\n",
              "      <td>0</td>\n",
              "      <td>1</td>\n",
              "      <td>56.95</td>\n",
              "      <td>0</td>\n",
              "    </tr>\n",
              "    <tr>\n",
              "      <th>2</th>\n",
              "      <td>1</td>\n",
              "      <td>0</td>\n",
              "      <td>0</td>\n",
              "      <td>0</td>\n",
              "      <td>2</td>\n",
              "      <td>1</td>\n",
              "      <td>0</td>\n",
              "      <td>0</td>\n",
              "      <td>1</td>\n",
              "      <td>1</td>\n",
              "      <td>0</td>\n",
              "      <td>0</td>\n",
              "      <td>0</td>\n",
              "      <td>0</td>\n",
              "      <td>0</td>\n",
              "      <td>1</td>\n",
              "      <td>1</td>\n",
              "      <td>53.85</td>\n",
              "      <td>1</td>\n",
              "    </tr>\n",
              "    <tr>\n",
              "      <th>3</th>\n",
              "      <td>1</td>\n",
              "      <td>0</td>\n",
              "      <td>0</td>\n",
              "      <td>0</td>\n",
              "      <td>45</td>\n",
              "      <td>0</td>\n",
              "      <td>0</td>\n",
              "      <td>0</td>\n",
              "      <td>1</td>\n",
              "      <td>0</td>\n",
              "      <td>1</td>\n",
              "      <td>1</td>\n",
              "      <td>0</td>\n",
              "      <td>0</td>\n",
              "      <td>1</td>\n",
              "      <td>0</td>\n",
              "      <td>2</td>\n",
              "      <td>42.30</td>\n",
              "      <td>0</td>\n",
              "    </tr>\n",
              "    <tr>\n",
              "      <th>4</th>\n",
              "      <td>0</td>\n",
              "      <td>0</td>\n",
              "      <td>0</td>\n",
              "      <td>0</td>\n",
              "      <td>2</td>\n",
              "      <td>1</td>\n",
              "      <td>0</td>\n",
              "      <td>1</td>\n",
              "      <td>0</td>\n",
              "      <td>0</td>\n",
              "      <td>0</td>\n",
              "      <td>0</td>\n",
              "      <td>0</td>\n",
              "      <td>0</td>\n",
              "      <td>0</td>\n",
              "      <td>1</td>\n",
              "      <td>0</td>\n",
              "      <td>70.70</td>\n",
              "      <td>1</td>\n",
              "    </tr>\n",
              "  </tbody>\n",
              "</table>\n",
              "</div>"
            ],
            "text/plain": [
              "   gender  SeniorCitizen  Partner  ...  PaymentMethod  MonthlyCharges  Churn\n",
              "0       0              0        1  ...              0           29.85      0\n",
              "1       1              0        0  ...              1           56.95      0\n",
              "2       1              0        0  ...              1           53.85      1\n",
              "3       1              0        0  ...              2           42.30      0\n",
              "4       0              0        0  ...              0           70.70      1\n",
              "\n",
              "[5 rows x 19 columns]"
            ]
          },
          "metadata": {
            "tags": []
          },
          "execution_count": 4
        }
      ]
    },
    {
      "cell_type": "code",
      "metadata": {
        "id": "mjzJbNEqZTXX",
        "colab_type": "code",
        "outputId": "8d517c44-42b8-440e-d6f5-b0690bed467a",
        "colab": {
          "base_uri": "https://localhost:8080/",
          "height": 320
        }
      },
      "source": [
        "telco.describe()"
      ],
      "execution_count": 5,
      "outputs": [
        {
          "output_type": "execute_result",
          "data": {
            "text/html": [
              "<div>\n",
              "<style scoped>\n",
              "    .dataframe tbody tr th:only-of-type {\n",
              "        vertical-align: middle;\n",
              "    }\n",
              "\n",
              "    .dataframe tbody tr th {\n",
              "        vertical-align: top;\n",
              "    }\n",
              "\n",
              "    .dataframe thead th {\n",
              "        text-align: right;\n",
              "    }\n",
              "</style>\n",
              "<table border=\"1\" class=\"dataframe\">\n",
              "  <thead>\n",
              "    <tr style=\"text-align: right;\">\n",
              "      <th></th>\n",
              "      <th>gender</th>\n",
              "      <th>SeniorCitizen</th>\n",
              "      <th>Partner</th>\n",
              "      <th>Dependents</th>\n",
              "      <th>tenure</th>\n",
              "      <th>PhoneService</th>\n",
              "      <th>MultipleLines</th>\n",
              "      <th>InternetService</th>\n",
              "      <th>OnlineSecurity</th>\n",
              "      <th>OnlineBackup</th>\n",
              "      <th>DeviceProtection</th>\n",
              "      <th>TechSupport</th>\n",
              "      <th>StreamingTV</th>\n",
              "      <th>StreamingMovies</th>\n",
              "      <th>Contract</th>\n",
              "      <th>PaperlessBilling</th>\n",
              "      <th>PaymentMethod</th>\n",
              "      <th>MonthlyCharges</th>\n",
              "      <th>Churn</th>\n",
              "    </tr>\n",
              "  </thead>\n",
              "  <tbody>\n",
              "    <tr>\n",
              "      <th>count</th>\n",
              "      <td>7043.000000</td>\n",
              "      <td>7043.000000</td>\n",
              "      <td>7043.000000</td>\n",
              "      <td>7043.000000</td>\n",
              "      <td>7043.000000</td>\n",
              "      <td>7043.000000</td>\n",
              "      <td>7043.000000</td>\n",
              "      <td>7043.000000</td>\n",
              "      <td>7043.000000</td>\n",
              "      <td>7043.000000</td>\n",
              "      <td>7043.000000</td>\n",
              "      <td>7043.000000</td>\n",
              "      <td>7043.000000</td>\n",
              "      <td>7043.000000</td>\n",
              "      <td>7043.000000</td>\n",
              "      <td>7043.000000</td>\n",
              "      <td>7043.000000</td>\n",
              "      <td>7043.000000</td>\n",
              "      <td>7043.000000</td>\n",
              "    </tr>\n",
              "    <tr>\n",
              "      <th>mean</th>\n",
              "      <td>0.504756</td>\n",
              "      <td>0.162147</td>\n",
              "      <td>0.483033</td>\n",
              "      <td>0.299588</td>\n",
              "      <td>32.371149</td>\n",
              "      <td>0.903166</td>\n",
              "      <td>0.421837</td>\n",
              "      <td>0.872923</td>\n",
              "      <td>0.286668</td>\n",
              "      <td>0.344881</td>\n",
              "      <td>0.343888</td>\n",
              "      <td>0.290217</td>\n",
              "      <td>0.384353</td>\n",
              "      <td>0.387903</td>\n",
              "      <td>0.690473</td>\n",
              "      <td>0.592219</td>\n",
              "      <td>1.315633</td>\n",
              "      <td>64.761692</td>\n",
              "      <td>0.265370</td>\n",
              "    </tr>\n",
              "    <tr>\n",
              "      <th>std</th>\n",
              "      <td>0.500013</td>\n",
              "      <td>0.368612</td>\n",
              "      <td>0.499748</td>\n",
              "      <td>0.458110</td>\n",
              "      <td>24.559481</td>\n",
              "      <td>0.295752</td>\n",
              "      <td>0.493888</td>\n",
              "      <td>0.737796</td>\n",
              "      <td>0.452237</td>\n",
              "      <td>0.475363</td>\n",
              "      <td>0.475038</td>\n",
              "      <td>0.453895</td>\n",
              "      <td>0.486477</td>\n",
              "      <td>0.487307</td>\n",
              "      <td>0.833755</td>\n",
              "      <td>0.491457</td>\n",
              "      <td>1.148907</td>\n",
              "      <td>30.090047</td>\n",
              "      <td>0.441561</td>\n",
              "    </tr>\n",
              "    <tr>\n",
              "      <th>min</th>\n",
              "      <td>0.000000</td>\n",
              "      <td>0.000000</td>\n",
              "      <td>0.000000</td>\n",
              "      <td>0.000000</td>\n",
              "      <td>0.000000</td>\n",
              "      <td>0.000000</td>\n",
              "      <td>0.000000</td>\n",
              "      <td>0.000000</td>\n",
              "      <td>0.000000</td>\n",
              "      <td>0.000000</td>\n",
              "      <td>0.000000</td>\n",
              "      <td>0.000000</td>\n",
              "      <td>0.000000</td>\n",
              "      <td>0.000000</td>\n",
              "      <td>0.000000</td>\n",
              "      <td>0.000000</td>\n",
              "      <td>0.000000</td>\n",
              "      <td>18.250000</td>\n",
              "      <td>0.000000</td>\n",
              "    </tr>\n",
              "    <tr>\n",
              "      <th>25%</th>\n",
              "      <td>0.000000</td>\n",
              "      <td>0.000000</td>\n",
              "      <td>0.000000</td>\n",
              "      <td>0.000000</td>\n",
              "      <td>9.000000</td>\n",
              "      <td>1.000000</td>\n",
              "      <td>0.000000</td>\n",
              "      <td>0.000000</td>\n",
              "      <td>0.000000</td>\n",
              "      <td>0.000000</td>\n",
              "      <td>0.000000</td>\n",
              "      <td>0.000000</td>\n",
              "      <td>0.000000</td>\n",
              "      <td>0.000000</td>\n",
              "      <td>0.000000</td>\n",
              "      <td>0.000000</td>\n",
              "      <td>0.000000</td>\n",
              "      <td>35.500000</td>\n",
              "      <td>0.000000</td>\n",
              "    </tr>\n",
              "    <tr>\n",
              "      <th>50%</th>\n",
              "      <td>1.000000</td>\n",
              "      <td>0.000000</td>\n",
              "      <td>0.000000</td>\n",
              "      <td>0.000000</td>\n",
              "      <td>29.000000</td>\n",
              "      <td>1.000000</td>\n",
              "      <td>0.000000</td>\n",
              "      <td>1.000000</td>\n",
              "      <td>0.000000</td>\n",
              "      <td>0.000000</td>\n",
              "      <td>0.000000</td>\n",
              "      <td>0.000000</td>\n",
              "      <td>0.000000</td>\n",
              "      <td>0.000000</td>\n",
              "      <td>0.000000</td>\n",
              "      <td>1.000000</td>\n",
              "      <td>1.000000</td>\n",
              "      <td>70.350000</td>\n",
              "      <td>0.000000</td>\n",
              "    </tr>\n",
              "    <tr>\n",
              "      <th>75%</th>\n",
              "      <td>1.000000</td>\n",
              "      <td>0.000000</td>\n",
              "      <td>1.000000</td>\n",
              "      <td>1.000000</td>\n",
              "      <td>55.000000</td>\n",
              "      <td>1.000000</td>\n",
              "      <td>1.000000</td>\n",
              "      <td>1.000000</td>\n",
              "      <td>1.000000</td>\n",
              "      <td>1.000000</td>\n",
              "      <td>1.000000</td>\n",
              "      <td>1.000000</td>\n",
              "      <td>1.000000</td>\n",
              "      <td>1.000000</td>\n",
              "      <td>1.000000</td>\n",
              "      <td>1.000000</td>\n",
              "      <td>2.000000</td>\n",
              "      <td>89.850000</td>\n",
              "      <td>1.000000</td>\n",
              "    </tr>\n",
              "    <tr>\n",
              "      <th>max</th>\n",
              "      <td>1.000000</td>\n",
              "      <td>1.000000</td>\n",
              "      <td>1.000000</td>\n",
              "      <td>1.000000</td>\n",
              "      <td>72.000000</td>\n",
              "      <td>1.000000</td>\n",
              "      <td>1.000000</td>\n",
              "      <td>2.000000</td>\n",
              "      <td>1.000000</td>\n",
              "      <td>1.000000</td>\n",
              "      <td>1.000000</td>\n",
              "      <td>1.000000</td>\n",
              "      <td>1.000000</td>\n",
              "      <td>1.000000</td>\n",
              "      <td>2.000000</td>\n",
              "      <td>1.000000</td>\n",
              "      <td>3.000000</td>\n",
              "      <td>118.750000</td>\n",
              "      <td>1.000000</td>\n",
              "    </tr>\n",
              "  </tbody>\n",
              "</table>\n",
              "</div>"
            ],
            "text/plain": [
              "            gender  SeniorCitizen  ...  MonthlyCharges        Churn\n",
              "count  7043.000000    7043.000000  ...     7043.000000  7043.000000\n",
              "mean      0.504756       0.162147  ...       64.761692     0.265370\n",
              "std       0.500013       0.368612  ...       30.090047     0.441561\n",
              "min       0.000000       0.000000  ...       18.250000     0.000000\n",
              "25%       0.000000       0.000000  ...       35.500000     0.000000\n",
              "50%       1.000000       0.000000  ...       70.350000     0.000000\n",
              "75%       1.000000       0.000000  ...       89.850000     1.000000\n",
              "max       1.000000       1.000000  ...      118.750000     1.000000\n",
              "\n",
              "[8 rows x 19 columns]"
            ]
          },
          "metadata": {
            "tags": []
          },
          "execution_count": 5
        }
      ]
    },
    {
      "cell_type": "code",
      "metadata": {
        "id": "Lfi5YcfPZUpL",
        "colab_type": "code",
        "outputId": "074a94c1-c531-4af0-ce07-f058ecfed7ad",
        "colab": {
          "base_uri": "https://localhost:8080/",
          "height": 226
        }
      },
      "source": [
        "df=telco\n",
        "df.head()"
      ],
      "execution_count": 6,
      "outputs": [
        {
          "output_type": "execute_result",
          "data": {
            "text/html": [
              "<div>\n",
              "<style scoped>\n",
              "    .dataframe tbody tr th:only-of-type {\n",
              "        vertical-align: middle;\n",
              "    }\n",
              "\n",
              "    .dataframe tbody tr th {\n",
              "        vertical-align: top;\n",
              "    }\n",
              "\n",
              "    .dataframe thead th {\n",
              "        text-align: right;\n",
              "    }\n",
              "</style>\n",
              "<table border=\"1\" class=\"dataframe\">\n",
              "  <thead>\n",
              "    <tr style=\"text-align: right;\">\n",
              "      <th></th>\n",
              "      <th>gender</th>\n",
              "      <th>SeniorCitizen</th>\n",
              "      <th>Partner</th>\n",
              "      <th>Dependents</th>\n",
              "      <th>tenure</th>\n",
              "      <th>PhoneService</th>\n",
              "      <th>MultipleLines</th>\n",
              "      <th>InternetService</th>\n",
              "      <th>OnlineSecurity</th>\n",
              "      <th>OnlineBackup</th>\n",
              "      <th>DeviceProtection</th>\n",
              "      <th>TechSupport</th>\n",
              "      <th>StreamingTV</th>\n",
              "      <th>StreamingMovies</th>\n",
              "      <th>Contract</th>\n",
              "      <th>PaperlessBilling</th>\n",
              "      <th>PaymentMethod</th>\n",
              "      <th>MonthlyCharges</th>\n",
              "      <th>Churn</th>\n",
              "    </tr>\n",
              "  </thead>\n",
              "  <tbody>\n",
              "    <tr>\n",
              "      <th>0</th>\n",
              "      <td>0</td>\n",
              "      <td>0</td>\n",
              "      <td>1</td>\n",
              "      <td>0</td>\n",
              "      <td>1</td>\n",
              "      <td>0</td>\n",
              "      <td>0</td>\n",
              "      <td>0</td>\n",
              "      <td>0</td>\n",
              "      <td>1</td>\n",
              "      <td>0</td>\n",
              "      <td>0</td>\n",
              "      <td>0</td>\n",
              "      <td>0</td>\n",
              "      <td>0</td>\n",
              "      <td>1</td>\n",
              "      <td>0</td>\n",
              "      <td>29.85</td>\n",
              "      <td>0</td>\n",
              "    </tr>\n",
              "    <tr>\n",
              "      <th>1</th>\n",
              "      <td>1</td>\n",
              "      <td>0</td>\n",
              "      <td>0</td>\n",
              "      <td>0</td>\n",
              "      <td>34</td>\n",
              "      <td>1</td>\n",
              "      <td>0</td>\n",
              "      <td>0</td>\n",
              "      <td>1</td>\n",
              "      <td>0</td>\n",
              "      <td>1</td>\n",
              "      <td>0</td>\n",
              "      <td>0</td>\n",
              "      <td>0</td>\n",
              "      <td>1</td>\n",
              "      <td>0</td>\n",
              "      <td>1</td>\n",
              "      <td>56.95</td>\n",
              "      <td>0</td>\n",
              "    </tr>\n",
              "    <tr>\n",
              "      <th>2</th>\n",
              "      <td>1</td>\n",
              "      <td>0</td>\n",
              "      <td>0</td>\n",
              "      <td>0</td>\n",
              "      <td>2</td>\n",
              "      <td>1</td>\n",
              "      <td>0</td>\n",
              "      <td>0</td>\n",
              "      <td>1</td>\n",
              "      <td>1</td>\n",
              "      <td>0</td>\n",
              "      <td>0</td>\n",
              "      <td>0</td>\n",
              "      <td>0</td>\n",
              "      <td>0</td>\n",
              "      <td>1</td>\n",
              "      <td>1</td>\n",
              "      <td>53.85</td>\n",
              "      <td>1</td>\n",
              "    </tr>\n",
              "    <tr>\n",
              "      <th>3</th>\n",
              "      <td>1</td>\n",
              "      <td>0</td>\n",
              "      <td>0</td>\n",
              "      <td>0</td>\n",
              "      <td>45</td>\n",
              "      <td>0</td>\n",
              "      <td>0</td>\n",
              "      <td>0</td>\n",
              "      <td>1</td>\n",
              "      <td>0</td>\n",
              "      <td>1</td>\n",
              "      <td>1</td>\n",
              "      <td>0</td>\n",
              "      <td>0</td>\n",
              "      <td>1</td>\n",
              "      <td>0</td>\n",
              "      <td>2</td>\n",
              "      <td>42.30</td>\n",
              "      <td>0</td>\n",
              "    </tr>\n",
              "    <tr>\n",
              "      <th>4</th>\n",
              "      <td>0</td>\n",
              "      <td>0</td>\n",
              "      <td>0</td>\n",
              "      <td>0</td>\n",
              "      <td>2</td>\n",
              "      <td>1</td>\n",
              "      <td>0</td>\n",
              "      <td>1</td>\n",
              "      <td>0</td>\n",
              "      <td>0</td>\n",
              "      <td>0</td>\n",
              "      <td>0</td>\n",
              "      <td>0</td>\n",
              "      <td>0</td>\n",
              "      <td>0</td>\n",
              "      <td>1</td>\n",
              "      <td>0</td>\n",
              "      <td>70.70</td>\n",
              "      <td>1</td>\n",
              "    </tr>\n",
              "  </tbody>\n",
              "</table>\n",
              "</div>"
            ],
            "text/plain": [
              "   gender  SeniorCitizen  Partner  ...  PaymentMethod  MonthlyCharges  Churn\n",
              "0       0              0        1  ...              0           29.85      0\n",
              "1       1              0        0  ...              1           56.95      0\n",
              "2       1              0        0  ...              1           53.85      1\n",
              "3       1              0        0  ...              2           42.30      0\n",
              "4       0              0        0  ...              0           70.70      1\n",
              "\n",
              "[5 rows x 19 columns]"
            ]
          },
          "metadata": {
            "tags": []
          },
          "execution_count": 6
        }
      ]
    },
    {
      "cell_type": "markdown",
      "metadata": {
        "id": "1E7mlUpyZa-F",
        "colab_type": "text"
      },
      "source": [
        "## Applying classifier models"
      ]
    },
    {
      "cell_type": "code",
      "metadata": {
        "id": "vp-H00Y7bJon",
        "colab_type": "code",
        "outputId": "f7248c75-11f2-4eea-f794-1416a6970223",
        "colab": {
          "base_uri": "https://localhost:8080/",
          "height": 53
        }
      },
      "source": [
        "from sklearn.model_selection import train_test_split\n",
        "import math\n",
        "\n",
        "X=telco[['gender','SeniorCitizen','Partner','Dependents','tenure','PhoneService','MultipleLines','InternetService','OnlineSecurity','OnlineBackup','DeviceProtection','TechSupport','StreamingTV','StreamingMovies','Contract','PaperlessBilling','PaymentMethod','MonthlyCharges']]\n",
        "X1=telco[['tenure','InternetService','PhoneService']]\n",
        "y=telco['Churn']\n",
        "X_train,X_test,y_train,y_test=train_test_split(X,y,test_size=0.1,random_state=2)\n",
        "print ('Train set:', X_train.shape,  y_train.shape)\n",
        "print ('Test set:', X_test.shape,  y_test.shape)\n",
        "X1_train,X1_test,y_train,y_test=train_test_split(X1,y,test_size=0.1,random_state=2)"
      ],
      "execution_count": 7,
      "outputs": [
        {
          "output_type": "stream",
          "text": [
            "Train set: (6338, 18) (6338,)\n",
            "Test set: (705, 18) (705,)\n"
          ],
          "name": "stdout"
        }
      ]
    },
    {
      "cell_type": "markdown",
      "metadata": {
        "id": "uoEoRkTXfLJd",
        "colab_type": "text"
      },
      "source": [
        "### logistic Regression:"
      ]
    },
    {
      "cell_type": "code",
      "metadata": {
        "id": "LBNAf6VSfOlN",
        "colab_type": "code",
        "outputId": "d6973e05-34a8-472b-f05a-4f01268c752d",
        "colab": {
          "base_uri": "https://localhost:8080/",
          "height": 128
        }
      },
      "source": [
        "from sklearn.linear_model import LogisticRegression\n",
        "from sklearn.metrics import accuracy_score\n",
        "\n",
        "reg1=LogisticRegression()\n",
        "reg1.fit(X_train,y_train)\n",
        "y_pred1=reg1.predict(X_test)\n",
        "\n",
        "lr_accuracy1=round(accuracy_score(y_test,y_pred1)*100,2)\n",
        "print('\\nAccuracy(Logistic Regression): ',lr_accuracy1,'%\\n')"
      ],
      "execution_count": 8,
      "outputs": [
        {
          "output_type": "stream",
          "text": [
            "\n",
            "Accuracy(Logistic Regression):  80.57 %\n",
            "\n"
          ],
          "name": "stdout"
        },
        {
          "output_type": "stream",
          "text": [
            "/usr/local/lib/python3.6/dist-packages/sklearn/linear_model/logistic.py:432: FutureWarning: Default solver will be changed to 'lbfgs' in 0.22. Specify a solver to silence this warning.\n",
            "  FutureWarning)\n"
          ],
          "name": "stderr"
        }
      ]
    },
    {
      "cell_type": "code",
      "metadata": {
        "id": "vdECsp1yfZtJ",
        "colab_type": "code",
        "outputId": "997fa76f-3011-447f-a519-5e27c90bcf0f",
        "colab": {
          "base_uri": "https://localhost:8080/",
          "height": 128
        }
      },
      "source": [
        "# With Best Features:\n",
        "\n",
        "from sklearn.linear_model import LogisticRegression\n",
        "from sklearn.metrics import accuracy_score\n",
        "\n",
        "reg=LogisticRegression()\n",
        "reg.fit(X1_train,y_train)\n",
        "y_pred=reg.predict(X1_test)\n",
        "\n",
        "lr_accuracy=round(accuracy_score(y_test,y_pred)*100,2)\n",
        "print('\\nAccuracy(Logistic Regression): ',lr_accuracy,'%\\n')"
      ],
      "execution_count": 9,
      "outputs": [
        {
          "output_type": "stream",
          "text": [
            "\n",
            "Accuracy(Logistic Regression):  78.72 %\n",
            "\n"
          ],
          "name": "stdout"
        },
        {
          "output_type": "stream",
          "text": [
            "/usr/local/lib/python3.6/dist-packages/sklearn/linear_model/logistic.py:432: FutureWarning: Default solver will be changed to 'lbfgs' in 0.22. Specify a solver to silence this warning.\n",
            "  FutureWarning)\n"
          ],
          "name": "stderr"
        }
      ]
    },
    {
      "cell_type": "markdown",
      "metadata": {
        "id": "vkVYU5cVZ4Dw",
        "colab_type": "text"
      },
      "source": [
        "### KNN Classifier:"
      ]
    },
    {
      "cell_type": "code",
      "metadata": {
        "id": "aXTvNyPdZdot",
        "colab_type": "code",
        "colab": {}
      },
      "source": [
        "import itertools\n",
        "from sklearn.neighbors import KNeighborsClassifier\n",
        "from sklearn import metrics\n",
        "from sklearn.model_selection import train_test_split\n",
        "from sklearn.model_selection import GridSearchCV"
      ],
      "execution_count": 0,
      "outputs": []
    },
    {
      "cell_type": "code",
      "metadata": {
        "id": "yPvR3BERaaP6",
        "colab_type": "code",
        "outputId": "0b699afd-5af7-46d5-b232-08cd4ad11000",
        "colab": {
          "base_uri": "https://localhost:8080/",
          "height": 35
        }
      },
      "source": [
        "K=100\n",
        "acc=np.zeros((K-1))\n",
        "for k in range(1,K):\n",
        "  model1=KNeighborsClassifier(n_neighbors=k).fit(X_train,y_train)\n",
        "  y_pred1=model1.predict(X_test)\n",
        "  acc[k-1]=metrics.accuracy_score(y_test,y_pred1)\n",
        "#print (acc)\n",
        "knn_accuracy1=round(acc.max()*100,2)\n",
        "print(\"The Best Accuracy is:\",acc.max()*100,\"% with k=\",acc.argmax()+1)"
      ],
      "execution_count": 11,
      "outputs": [
        {
          "output_type": "stream",
          "text": [
            "The Best Accuracy is: 81.84397163120568 % with k= 84\n"
          ],
          "name": "stdout"
        }
      ]
    },
    {
      "cell_type": "code",
      "metadata": {
        "colab_type": "code",
        "outputId": "952ab46e-2d40-4074-d402-18240b79ea7a",
        "id": "I_nNuazWh7tZ",
        "colab": {
          "base_uri": "https://localhost:8080/",
          "height": 35
        }
      },
      "source": [
        "# With Best features\n",
        "\n",
        "K=100\n",
        "acc=np.zeros((K-1))\n",
        "for k in range(1,K):\n",
        "  model=KNeighborsClassifier(n_neighbors=k).fit(X1_train,y_train)\n",
        "  y_pred=model.predict(X1_test)\n",
        "  acc[k-1]=metrics.accuracy_score(y_test,y_pred)\n",
        "#print (acc)\n",
        "knn_accuracy=round(acc.max()*100,2)\n",
        "print(\"The Best Accuracy is:\",acc.max()*100,\"% with k=\",acc.argmax()+1)"
      ],
      "execution_count": 12,
      "outputs": [
        {
          "output_type": "stream",
          "text": [
            "The Best Accuracy is: 82.41134751773049 % with k= 38\n"
          ],
          "name": "stdout"
        }
      ]
    },
    {
      "cell_type": "markdown",
      "metadata": {
        "id": "VHw-lFN-a9q5",
        "colab_type": "text"
      },
      "source": [
        "### Naive-Bayes Classifier"
      ]
    },
    {
      "cell_type": "code",
      "metadata": {
        "id": "nr116bzWbCOd",
        "colab_type": "code",
        "outputId": "82efcb00-6363-4dc8-e291-a5da52a633f5",
        "colab": {
          "base_uri": "https://localhost:8080/",
          "height": 35
        }
      },
      "source": [
        "from sklearn.naive_bayes import GaussianNB\n",
        "from sklearn.metrics import accuracy_score\n",
        "clf1=GaussianNB()\n",
        "clf1.fit(X_train,y_train)\n",
        "y_pred1=clf1.predict(X_test)\n",
        "\n",
        "nb_accuracy1=round(metrics.accuracy_score(y_test,y_pred1)*100,2)\n",
        "print('Accuracy(Naive Bayes): ',nb_accuracy1,'%')"
      ],
      "execution_count": 13,
      "outputs": [
        {
          "output_type": "stream",
          "text": [
            "Accuracy(Naive Bayes):  76.31 %\n"
          ],
          "name": "stdout"
        }
      ]
    },
    {
      "cell_type": "code",
      "metadata": {
        "id": "4E3b-9OVbpaN",
        "colab_type": "code",
        "outputId": "2a4fd4a5-b4e3-4781-c39f-5253e7d82076",
        "colab": {
          "base_uri": "https://localhost:8080/",
          "height": 35
        }
      },
      "source": [
        "# With Best Features\n",
        "\n",
        "from sklearn.naive_bayes import GaussianNB\n",
        "from sklearn.metrics import accuracy_score\n",
        "clf=GaussianNB()\n",
        "clf.fit(X1_train,y_train)\n",
        "y_pred=clf.predict(X1_test)\n",
        "\n",
        "nb_accuracy=round(metrics.accuracy_score(y_test,y_pred)*100,2)\n",
        "print('Accuracy(Naive Bayes): ',nb_accuracy,'%')\n"
      ],
      "execution_count": 14,
      "outputs": [
        {
          "output_type": "stream",
          "text": [
            "Accuracy(Naive Bayes):  80.71 %\n"
          ],
          "name": "stdout"
        }
      ]
    },
    {
      "cell_type": "markdown",
      "metadata": {
        "id": "YI1LJ36kcEFq",
        "colab_type": "text"
      },
      "source": [
        "### Decision Tree Classifier"
      ]
    },
    {
      "cell_type": "code",
      "metadata": {
        "id": "BbrvzsVRcIXu",
        "colab_type": "code",
        "outputId": "67b641b5-9d2a-4428-9bd6-cb5759f6d7a0",
        "colab": {
          "base_uri": "https://localhost:8080/",
          "height": 35
        }
      },
      "source": [
        "from sklearn.tree import DecisionTreeClassifier\n",
        "\n",
        "clf_entropy1=DecisionTreeClassifier(criterion='entropy', random_state=1)\n",
        "clf_entropy1.fit(X_train,y_train)\n",
        "y_pred1=clf_entropy1.predict(X_test)\n",
        "\n",
        "dt_accuracy1=round(accuracy_score(y_test,y_pred1)*100,2)\n",
        "print('Accuracy(Decision Tree): ',dt_accuracy1,'%')"
      ],
      "execution_count": 15,
      "outputs": [
        {
          "output_type": "stream",
          "text": [
            "Accuracy(Decision Tree):  74.61 %\n"
          ],
          "name": "stdout"
        }
      ]
    },
    {
      "cell_type": "code",
      "metadata": {
        "id": "l3YkbyCAcQsx",
        "colab_type": "code",
        "outputId": "49d05d91-7ee8-4795-ef88-9744f67b3396",
        "colab": {
          "base_uri": "https://localhost:8080/",
          "height": 35
        }
      },
      "source": [
        "# With Best Features\n",
        "\n",
        "from sklearn.tree import DecisionTreeClassifier\n",
        "\n",
        "clf_entropy=DecisionTreeClassifier(criterion='entropy', random_state=1)\n",
        "clf_entropy.fit(X1_train,y_train)\n",
        "y_pred=clf_entropy.predict(X1_test)\n",
        "\n",
        "dt_accuracy=round(accuracy_score(y_test,y_pred)*100,2)\n",
        "print('Accuracy(Decision Tree): ',dt_accuracy,'%')"
      ],
      "execution_count": 16,
      "outputs": [
        {
          "output_type": "stream",
          "text": [
            "Accuracy(Decision Tree):  81.99 %\n"
          ],
          "name": "stdout"
        }
      ]
    },
    {
      "cell_type": "markdown",
      "metadata": {
        "id": "iA4lCPBHdWsC",
        "colab_type": "text"
      },
      "source": [
        "### Random Forest Classifier"
      ]
    },
    {
      "cell_type": "code",
      "metadata": {
        "id": "kAcEbfm5daME",
        "colab_type": "code",
        "outputId": "77008ed0-6ea2-4dda-fc17-4bb39d9c56b7",
        "colab": {
          "base_uri": "https://localhost:8080/",
          "height": 35
        }
      },
      "source": [
        "from sklearn.ensemble import RandomForestClassifier\n",
        "\n",
        "clf1=RandomForestClassifier(n_estimators=100)\n",
        "\n",
        "clf1.fit(X_train,y_train)\n",
        "\n",
        "y_pred1=clf1.predict(X_test)\n",
        "\n",
        "rf_accuracy1=round(accuracy_score(y_test,y_pred1)*100,2)\n",
        "print('Accuracy(Random Forest): ',rf_accuracy1,'%')"
      ],
      "execution_count": 17,
      "outputs": [
        {
          "output_type": "stream",
          "text": [
            "Accuracy(Random Forest):  80.28 %\n"
          ],
          "name": "stdout"
        }
      ]
    },
    {
      "cell_type": "code",
      "metadata": {
        "id": "vb6_nunjdd9f",
        "colab_type": "code",
        "outputId": "566a3ae8-39f5-44a9-d3c7-f34170a6d5e2",
        "colab": {
          "base_uri": "https://localhost:8080/",
          "height": 35
        }
      },
      "source": [
        "# With Best Featuers\n",
        "\n",
        "from sklearn.ensemble import RandomForestClassifier\n",
        "\n",
        "clf=RandomForestClassifier(n_estimators=1000)\n",
        "\n",
        "clf.fit(X1_train,y_train)\n",
        "\n",
        "y_pred=clf.predict(X1_test)\n",
        "\n",
        "rf_accuracy=round(accuracy_score(y_test,y_pred)*100,2)\n",
        "print('Accuracy(Random Forest): ',rf_accuracy,'%')"
      ],
      "execution_count": 18,
      "outputs": [
        {
          "output_type": "stream",
          "text": [
            "Accuracy(Random Forest):  81.56 %\n"
          ],
          "name": "stdout"
        }
      ]
    },
    {
      "cell_type": "markdown",
      "metadata": {
        "id": "rRDpsUVddxd7",
        "colab_type": "text"
      },
      "source": [
        "### Support Vector Classifier"
      ]
    },
    {
      "cell_type": "code",
      "metadata": {
        "id": "JVbR7TZPd2ef",
        "colab_type": "code",
        "outputId": "bf4bb6c6-9edb-44ea-cd10-2dca810aca53",
        "colab": {
          "base_uri": "https://localhost:8080/",
          "height": 92
        }
      },
      "source": [
        "from sklearn import svm\n",
        "\n",
        "clf1=svm.SVC()\n",
        "clf1.fit(X_train,y_train)\n",
        "y_pred1=clf1.predict(X_test)\n",
        "\n",
        "svm_accuracy1=round(accuracy_score(y_test,y_pred1)*100,2)\n",
        "print('Accuracy(SVM): ',svm_accuracy1,'%')"
      ],
      "execution_count": 19,
      "outputs": [
        {
          "output_type": "stream",
          "text": [
            "/usr/local/lib/python3.6/dist-packages/sklearn/svm/base.py:193: FutureWarning: The default value of gamma will change from 'auto' to 'scale' in version 0.22 to account better for unscaled features. Set gamma explicitly to 'auto' or 'scale' to avoid this warning.\n",
            "  \"avoid this warning.\", FutureWarning)\n"
          ],
          "name": "stderr"
        },
        {
          "output_type": "stream",
          "text": [
            "Accuracy(SVM):  81.28 %\n"
          ],
          "name": "stdout"
        }
      ]
    },
    {
      "cell_type": "code",
      "metadata": {
        "id": "1z76UKQpd68l",
        "colab_type": "code",
        "outputId": "ec1da460-8e76-423d-e6c5-bd051f44dd70",
        "colab": {
          "base_uri": "https://localhost:8080/",
          "height": 92
        }
      },
      "source": [
        "# With Best Features\n",
        "\n",
        "\n",
        "from sklearn import svm\n",
        "\n",
        "clf=svm.SVC()\n",
        "clf.fit(X1_train,y_train)\n",
        "y_pred=clf.predict(X1_test)\n",
        "\n",
        "svm_accuracy=round(accuracy_score(y_test,y_pred)*100,2)\n",
        "print('Accuracy(SVM): ',svm_accuracy,'%')"
      ],
      "execution_count": 20,
      "outputs": [
        {
          "output_type": "stream",
          "text": [
            "/usr/local/lib/python3.6/dist-packages/sklearn/svm/base.py:193: FutureWarning: The default value of gamma will change from 'auto' to 'scale' in version 0.22 to account better for unscaled features. Set gamma explicitly to 'auto' or 'scale' to avoid this warning.\n",
            "  \"avoid this warning.\", FutureWarning)\n"
          ],
          "name": "stderr"
        },
        {
          "output_type": "stream",
          "text": [
            "Accuracy(SVM):  82.13 %\n"
          ],
          "name": "stdout"
        }
      ]
    },
    {
      "cell_type": "markdown",
      "metadata": {
        "id": "atyKi9aDeDaC",
        "colab_type": "text"
      },
      "source": [
        "# Ensemble Learning:\n",
        "## Voting Classifier:"
      ]
    },
    {
      "cell_type": "code",
      "metadata": {
        "id": "I_w2UEkSeM2r",
        "colab_type": "code",
        "outputId": "9daa145d-0b24-47b7-82a9-af4471f2e789",
        "colab": {
          "base_uri": "https://localhost:8080/",
          "height": 164
        }
      },
      "source": [
        "from sklearn.svm import SVC\n",
        "from sklearn.linear_model import LogisticRegression\n",
        "from sklearn.neighbors import KNeighborsClassifier\n",
        "from sklearn.tree import DecisionTreeClassifier\n",
        "from sklearn.ensemble import RandomForestClassifier\n",
        "from sklearn.naive_bayes import GaussianNB\n",
        "\n",
        "from sklearn.ensemble import VotingClassifier\n",
        "\n",
        "log_clf = LogisticRegression()\n",
        "rnd_clf = RandomForestClassifier()\n",
        "svm_clf = SVC(kernel=\"linear\", C=1000)\n",
        "nb_clf=GaussianNB()\n",
        "dt_clf=DecisionTreeClassifier(criterion='entropy', random_state=2)\n",
        "knn_clf=KNeighborsClassifier(n_neighbors=38)\n",
        "\n",
        "voting_clf = VotingClassifier(\n",
        "\testimators = [('lr', log_clf), ('rf', rnd_clf), ('knn',knn_clf),('dt',dt_clf),('nb', nb_clf)])    \n",
        "voting_clf.fit(X_train, y_train)\n",
        "y_pred=voting_clf.predict(X_test)\n",
        "\n",
        "vot_accuracy1=round(accuracy_score(y_test,y_pred)*100,2)\n",
        "print('\\n\\nAccuracy(Voting Classifier): ',vot_accuracy1,'%')"
      ],
      "execution_count": 21,
      "outputs": [
        {
          "output_type": "stream",
          "text": [
            "/usr/local/lib/python3.6/dist-packages/sklearn/linear_model/logistic.py:432: FutureWarning: Default solver will be changed to 'lbfgs' in 0.22. Specify a solver to silence this warning.\n",
            "  FutureWarning)\n",
            "/usr/local/lib/python3.6/dist-packages/sklearn/ensemble/forest.py:245: FutureWarning: The default value of n_estimators will change from 10 in version 0.20 to 100 in 0.22.\n",
            "  \"10 in version 0.20 to 100 in 0.22.\", FutureWarning)\n"
          ],
          "name": "stderr"
        },
        {
          "output_type": "stream",
          "text": [
            "\n",
            "\n",
            "Accuracy(Voting Classifier):  80.28 %\n"
          ],
          "name": "stdout"
        }
      ]
    },
    {
      "cell_type": "code",
      "metadata": {
        "id": "ksvLvf0mhd3u",
        "colab_type": "code",
        "outputId": "097d8d9c-1990-4dcc-c1c4-c7d066d497a4",
        "colab": {
          "base_uri": "https://localhost:8080/",
          "height": 164
        }
      },
      "source": [
        "# With Best Features\n",
        "\n",
        "from sklearn.svm import SVC\n",
        "from sklearn.linear_model import LogisticRegression\n",
        "from sklearn.neighbors import KNeighborsClassifier\n",
        "from sklearn.tree import DecisionTreeClassifier\n",
        "from sklearn.ensemble import RandomForestClassifier\n",
        "from sklearn.naive_bayes import GaussianNB\n",
        "\n",
        "from sklearn.ensemble import VotingClassifier\n",
        "\n",
        "log_clf = LogisticRegression()\n",
        "rnd_clf = RandomForestClassifier(n_estimators=1000)\n",
        "svm_clf = SVC()\n",
        "nb_clf=GaussianNB()\n",
        "dt_clf=DecisionTreeClassifier(criterion='entropy', random_state=1)\n",
        "knn_clf=KNeighborsClassifier(n_neighbors=38)\n",
        "\n",
        "voting_clf = VotingClassifier(\n",
        "\testimators = [('lr', log_clf), ('rf', rnd_clf),('svm',svm_clf), ('knn',knn_clf),('dt',dt_clf),('nb', nb_clf)])    \n",
        "voting_clf.fit(X1_train, y_train)\n",
        "y_pred=voting_clf.predict(X1_test)\n",
        "\n",
        "vot_accuracy=round(accuracy_score(y_test,y_pred)*100,2)\n",
        "print('\\n\\nAccuracy(Voting Classifier): ',vot_accuracy,'%')"
      ],
      "execution_count": 22,
      "outputs": [
        {
          "output_type": "stream",
          "text": [
            "/usr/local/lib/python3.6/dist-packages/sklearn/linear_model/logistic.py:432: FutureWarning: Default solver will be changed to 'lbfgs' in 0.22. Specify a solver to silence this warning.\n",
            "  FutureWarning)\n",
            "/usr/local/lib/python3.6/dist-packages/sklearn/svm/base.py:193: FutureWarning: The default value of gamma will change from 'auto' to 'scale' in version 0.22 to account better for unscaled features. Set gamma explicitly to 'auto' or 'scale' to avoid this warning.\n",
            "  \"avoid this warning.\", FutureWarning)\n"
          ],
          "name": "stderr"
        },
        {
          "output_type": "stream",
          "text": [
            "\n",
            "\n",
            "Accuracy(Voting Classifier):  82.41 %\n"
          ],
          "name": "stdout"
        }
      ]
    },
    {
      "cell_type": "markdown",
      "metadata": {
        "id": "1EqsudvJfpzA",
        "colab_type": "text"
      },
      "source": [
        "# Accuracy report:\n"
      ]
    },
    {
      "cell_type": "code",
      "metadata": {
        "id": "4efeqdtb0mtO",
        "colab_type": "code",
        "colab": {
          "base_uri": "https://localhost:8080/",
          "height": 360
        },
        "outputId": "038d720f-ea5a-4d1f-c9f4-9cde954b2c2d"
      },
      "source": [
        "accu1=pd.DataFrame({\n",
        "    'Model':['Logistic Regression','K-nearest Neighbors','Support Vector Machine','Naive Bayes','Decision Tree','Random Forest','Voting Classifier(Final Accuracy)'],\n",
        "    'Accuracy':[lr_accuracy1,knn_accuracy1,svm_accuracy1,nb_accuracy1,dt_accuracy1,rf_accuracy1,vot_accuracy1]\n",
        "})\n",
        "\n",
        "print(\"\\nAccuracy with all features: \",vot_accuracy1,\"%\\n\")\n",
        "print(\"\\t-------Ensemble Learning------\\n\")\n",
        "accu1"
      ],
      "execution_count": 23,
      "outputs": [
        {
          "output_type": "stream",
          "text": [
            "\n",
            "Accuracy with all features:  80.28 %\n",
            "\n",
            "\t-------Ensemble Learning------\n",
            "\n"
          ],
          "name": "stdout"
        },
        {
          "output_type": "execute_result",
          "data": {
            "text/html": [
              "<div>\n",
              "<style scoped>\n",
              "    .dataframe tbody tr th:only-of-type {\n",
              "        vertical-align: middle;\n",
              "    }\n",
              "\n",
              "    .dataframe tbody tr th {\n",
              "        vertical-align: top;\n",
              "    }\n",
              "\n",
              "    .dataframe thead th {\n",
              "        text-align: right;\n",
              "    }\n",
              "</style>\n",
              "<table border=\"1\" class=\"dataframe\">\n",
              "  <thead>\n",
              "    <tr style=\"text-align: right;\">\n",
              "      <th></th>\n",
              "      <th>Model</th>\n",
              "      <th>Accuracy</th>\n",
              "    </tr>\n",
              "  </thead>\n",
              "  <tbody>\n",
              "    <tr>\n",
              "      <th>0</th>\n",
              "      <td>Logistic Regression</td>\n",
              "      <td>80.57</td>\n",
              "    </tr>\n",
              "    <tr>\n",
              "      <th>1</th>\n",
              "      <td>K-nearest Neighbors</td>\n",
              "      <td>81.84</td>\n",
              "    </tr>\n",
              "    <tr>\n",
              "      <th>2</th>\n",
              "      <td>Support Vector Machine</td>\n",
              "      <td>81.28</td>\n",
              "    </tr>\n",
              "    <tr>\n",
              "      <th>3</th>\n",
              "      <td>Naive Bayes</td>\n",
              "      <td>76.31</td>\n",
              "    </tr>\n",
              "    <tr>\n",
              "      <th>4</th>\n",
              "      <td>Decision Tree</td>\n",
              "      <td>74.61</td>\n",
              "    </tr>\n",
              "    <tr>\n",
              "      <th>5</th>\n",
              "      <td>Random Forest</td>\n",
              "      <td>80.28</td>\n",
              "    </tr>\n",
              "    <tr>\n",
              "      <th>6</th>\n",
              "      <td>Voting Classifier(Final Accuracy)</td>\n",
              "      <td>80.28</td>\n",
              "    </tr>\n",
              "  </tbody>\n",
              "</table>\n",
              "</div>"
            ],
            "text/plain": [
              "                               Model  Accuracy\n",
              "0                Logistic Regression     80.57\n",
              "1                K-nearest Neighbors     81.84\n",
              "2             Support Vector Machine     81.28\n",
              "3                        Naive Bayes     76.31\n",
              "4                      Decision Tree     74.61\n",
              "5                      Random Forest     80.28\n",
              "6  Voting Classifier(Final Accuracy)     80.28"
            ]
          },
          "metadata": {
            "tags": []
          },
          "execution_count": 23
        }
      ]
    },
    {
      "cell_type": "code",
      "metadata": {
        "id": "92oaLtYtfs96",
        "colab_type": "code",
        "outputId": "d0695e68-7df6-4f1a-b8c6-dea90afa0270",
        "colab": {
          "base_uri": "https://localhost:8080/",
          "height": 378
        }
      },
      "source": [
        "print('-----------Accuracy of prediction--------------')\n",
        "# print('\\nLogistic Regression : ',lr_accuracy,'%')\n",
        "# print('\\nK-nearest Neighbors : ',knn_accuracy,'%')\n",
        "# print('\\nNaive Bayes : ',nb_accuracy,'%')\n",
        "# print('\\nDecision Tree : ',dt_accuracy,'%')\n",
        "# print('\\nRandom Forest : ',rf_accuracy,'%')\n",
        "# print('\\nSupport Vector Machine : ',svm_accuracy,'%')\n",
        "# print('\\n\\nFinal Accuracy-')\n",
        "# print('\\nVoting Classifier: ',vot_accuracy,'%')\n",
        "\n",
        "accu=pd.DataFrame({\n",
        "    'Model':['Logistic Regression','K-nearest Neighbors','Support Vector Machine','Naive Bayes','Decision Tree','Random Forest','Voting Classifier(Final Accuracy)'],\n",
        "    'Accuracy':[lr_accuracy,knn_accuracy,svm_accuracy,nb_accuracy,dt_accuracy,rf_accuracy,vot_accuracy]\n",
        "})\n",
        "\n",
        "print(\"\\nAccuracy with best features: \",vot_accuracy,\"%\\n\")\n",
        "print(\"\\t-------Ensemble Learning------\\n\")\n",
        "accu"
      ],
      "execution_count": 24,
      "outputs": [
        {
          "output_type": "stream",
          "text": [
            "-----------Accuracy of prediction--------------\n",
            "\n",
            "Accuracy with best features:  82.41 %\n",
            "\n",
            "\t-------Ensemble Learning------\n",
            "\n"
          ],
          "name": "stdout"
        },
        {
          "output_type": "execute_result",
          "data": {
            "text/html": [
              "<div>\n",
              "<style scoped>\n",
              "    .dataframe tbody tr th:only-of-type {\n",
              "        vertical-align: middle;\n",
              "    }\n",
              "\n",
              "    .dataframe tbody tr th {\n",
              "        vertical-align: top;\n",
              "    }\n",
              "\n",
              "    .dataframe thead th {\n",
              "        text-align: right;\n",
              "    }\n",
              "</style>\n",
              "<table border=\"1\" class=\"dataframe\">\n",
              "  <thead>\n",
              "    <tr style=\"text-align: right;\">\n",
              "      <th></th>\n",
              "      <th>Model</th>\n",
              "      <th>Accuracy</th>\n",
              "    </tr>\n",
              "  </thead>\n",
              "  <tbody>\n",
              "    <tr>\n",
              "      <th>0</th>\n",
              "      <td>Logistic Regression</td>\n",
              "      <td>78.72</td>\n",
              "    </tr>\n",
              "    <tr>\n",
              "      <th>1</th>\n",
              "      <td>K-nearest Neighbors</td>\n",
              "      <td>82.41</td>\n",
              "    </tr>\n",
              "    <tr>\n",
              "      <th>2</th>\n",
              "      <td>Support Vector Machine</td>\n",
              "      <td>82.13</td>\n",
              "    </tr>\n",
              "    <tr>\n",
              "      <th>3</th>\n",
              "      <td>Naive Bayes</td>\n",
              "      <td>80.71</td>\n",
              "    </tr>\n",
              "    <tr>\n",
              "      <th>4</th>\n",
              "      <td>Decision Tree</td>\n",
              "      <td>81.99</td>\n",
              "    </tr>\n",
              "    <tr>\n",
              "      <th>5</th>\n",
              "      <td>Random Forest</td>\n",
              "      <td>81.56</td>\n",
              "    </tr>\n",
              "    <tr>\n",
              "      <th>6</th>\n",
              "      <td>Voting Classifier(Final Accuracy)</td>\n",
              "      <td>82.41</td>\n",
              "    </tr>\n",
              "  </tbody>\n",
              "</table>\n",
              "</div>"
            ],
            "text/plain": [
              "                               Model  Accuracy\n",
              "0                Logistic Regression     78.72\n",
              "1                K-nearest Neighbors     82.41\n",
              "2             Support Vector Machine     82.13\n",
              "3                        Naive Bayes     80.71\n",
              "4                      Decision Tree     81.99\n",
              "5                      Random Forest     81.56\n",
              "6  Voting Classifier(Final Accuracy)     82.41"
            ]
          },
          "metadata": {
            "tags": []
          },
          "execution_count": 24
        }
      ]
    }
  ]
}